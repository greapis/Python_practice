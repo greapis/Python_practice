{
  "nbformat": 4,
  "nbformat_minor": 0,
  "metadata": {
    "colab": {
      "provenance": [],
      "authorship_tag": "ABX9TyP3Xr8ACUUzfN7yMOQrESM7",
      "include_colab_link": true
    },
    "kernelspec": {
      "name": "python3",
      "display_name": "Python 3"
    },
    "language_info": {
      "name": "python"
    }
  },
  "cells": [
    {
      "cell_type": "markdown",
      "metadata": {
        "id": "view-in-github",
        "colab_type": "text"
      },
      "source": [
        "<a href=\"https://colab.research.google.com/github/greapis/Python_practice/blob/main/Tensorflow_AI_LS_CIFAR_10(CNN).ipynb\" target=\"_parent\"><img src=\"https://colab.research.google.com/assets/colab-badge.svg\" alt=\"Open In Colab\"/></a>"
      ]
    },
    {
      "cell_type": "markdown",
      "source": [
        "CIFAR-10 Datasets은 제공됨\n",
        " - MNIST : from tensorflow.keras.datasets import mnist\n",
        " - CIFAR-10 Datasets 역시 keras에서 기본적으로 제공"
      ],
      "metadata": {
        "id": "WCWev_JrZUrW"
      }
    },
    {
      "cell_type": "code",
      "source": [
        "# Road library\n",
        "\n",
        "import tensorflow as tf\n",
        "from tensorflow.keras.datasets import cifar10\n",
        "  #  keras에서 Datasets 제공\n",
        "\n",
        "from tensorflow.keras import layers, models\n",
        "from tensorflow.keras.utils import to_categorical\n",
        "  # using \"One-Hot Encoding\"\n",
        "\n",
        "import numpy as np\n",
        "from PIL import Image"
      ],
      "metadata": {
        "id": "r-kFHl77Zrb1"
      },
      "execution_count": 12,
      "outputs": []
    },
    {
      "cell_type": "markdown",
      "source": [
        "Data 전처리\n",
        " - X : 정규화(MNIST와 동일)\n",
        "\n",
        "     각 픽셀은 0과 255 사이의 정수값으로 설정됨\n",
        "     해당 값들을 0과 1로 정규화하는 것이 필요\n",
        "\n",
        " - Y : Label Encoding : One-Hot Encoding\n",
        "     각 클래스를 독립적인 카테고리로 인식하기 위함\n",
        "         airplaine  = [1,0,0,0,0,0,0,0,0,0]\n",
        "         automobile = [0,1,0,0,0,0,0,0,0,0]   "
      ],
      "metadata": {
        "id": "YaV8QbLnmhiT"
      }
    },
    {
      "cell_type": "code",
      "source": [
        "# Data 전처리\n",
        "\n",
        "# Roding CIFAR-10 datasets\n",
        "(x_train, y_train), (x_test, y_test) = cifar10.load_data()\n",
        "  # x : pixels value(0~255),\n",
        "  # y : labels (airplane, bird 등)\n",
        "\n",
        "# Ont-Hot Encoding 적용\n",
        "y_train = to_categorical(y_train)\n",
        "y_test = to_categorical(y_test)\n",
        "\n",
        "# Nomalization data\n",
        "x_train, x_test = x_train / 255.0, x_test / 255.0"
      ],
      "metadata": {
        "id": "k5AiGK7yni-W"
      },
      "execution_count": 13,
      "outputs": []
    },
    {
      "cell_type": "markdown",
      "source": [
        "모델 구축 : 1번 합성곱 + 풀링 layer\n",
        "\n",
        " - 합성곱 layer(Convolutional Layer)\n",
        "\n",
        "   필터수, 커널 크기(커널 = filter), 활성화 함수 설정\n",
        "\n",
        "   input_shape = (32,32,3)인 이유는 RGB가 포함되었기 때문\n",
        "   \n",
        "\n",
        " - Pooling Layer : Max Pooling\n",
        "\n",
        "   Pooling filter size : (2 X 2)\n",
        "\n",
        "   Max Pooling : (2 X 2) 블록 내에서 가장 큰 값을 선정\n"
      ],
      "metadata": {
        "id": "CuepKDVztREd"
      }
    },
    {
      "cell_type": "code",
      "source": [
        "# CNN Model_1 : Convolutional + Pooling Layers\n",
        "\n",
        "model = models.Sequential()\n",
        "model.add(layers.Conv2D(32, (3, 3), activation='relu', input_shape=(32,32,3)))\n",
        "  #  Conv2D(32, (3, 3))) 32:필터 수, (3, 3) : 커널 크기\n",
        "\n",
        "model.add(layers.MaxPooling2D(2,2))\n",
        "  #  MaxPooling2D(2,2) : Pooling filer 크기 : (2,2)\n",
        "\n",
        "model.add(layers.Conv2D(64, (3, 3), activation='relu'))\n",
        "model.add(layers.MaxPooling2D(2,2))\n",
        "  #  Convolutional layer, MaxPooling layer를 2번 반복\n",
        "    #  모델 성능을높이고 싶다면 'Convolutional layer, MaxPooling layer' 부분 추가 가능\n"
      ],
      "metadata": {
        "id": "b2lxvx6uq9bW",
        "outputId": "72766071-8b26-4ab3-d084-13bd7858ae68",
        "colab": {
          "base_uri": "https://localhost:8080/"
        }
      },
      "execution_count": 14,
      "outputs": [
        {
          "output_type": "stream",
          "name": "stderr",
          "text": [
            "/usr/local/lib/python3.11/dist-packages/keras/src/layers/convolutional/base_conv.py:107: UserWarning: Do not pass an `input_shape`/`input_dim` argument to a layer. When using Sequential models, prefer using an `Input(shape)` object as the first layer in the model instead.\n",
            "  super().__init__(activity_regularizer=activity_regularizer, **kwargs)\n"
          ]
        }
      ]
    },
    {
      "cell_type": "markdown",
      "source": [
        "스트라이드와 패딩 (stride // padding)\n",
        "\n",
        "\n",
        "  - Stride\n",
        "\n",
        "Stride는 필터가 입력 데이터를 얼마나 이동하는지를 나타냅니다. 예를 들어, stride가 1이면 필터는 한 번에 한 칸씩 이동하고, stride가 2이면 두 칸씩 이동합니다. Stride가 크면 입력 데이터의 크기가 더 많이 줄어듭니다.\n",
        "\n",
        "stride가 크면, filter의 이동이 크고 feature map이 적고\n",
        "stride가 작으면, filter의 이동이 작고 feature map이 크고\n",
        "\n",
        "\n",
        "\n",
        "  - Padding\n",
        "\n",
        "Padding은 입력 데이터의 테두리에 추가적인 픽셀을 추가하는 것을 말합니다. 패딩은 일반적으로 두 가지 이유로 사용됩니다:\n",
        "\n",
        "출력 크기 조정: 패딩을 사용하지 않으면 합성곱 연산 후 출력 데이터의 크기가 줄어들 수 있습니다. 패딩을 사용하면 원래 입력 데이터와 동일한 크기의 출력을 유지할 수 있습니다.\n",
        "\n",
        "경계 정보 보존: 입력 데이터의 경계 부분을 보존하고 싶을 때 패딩을 사용합니다."
      ],
      "metadata": {
        "id": "7QsQrZiplUK9"
      }
    },
    {
      "cell_type": "code",
      "source": [
        "# Example of stride and padding\n",
        "\n",
        "# - Stride\n",
        "#    strides = 1\n",
        "#    strides = 2\n",
        "\n",
        "# - Padding\n",
        "#    padding = 'valid' : padding 추가 X\n",
        "#    padding = 'same'  : padding 추가 : 입력크기 = 출력크기 (동일)"
      ],
      "metadata": {
        "id": "NKAYe1WFl3i0"
      },
      "execution_count": 15,
      "outputs": []
    },
    {
      "cell_type": "code",
      "source": [
        "# Revising CNN Code (조정 of stride and padding)\n",
        "\n",
        "model = models.Sequential()\n",
        "model.add(layers.Conv2D(32, (3, 3), strides=1, padding ='same', activation='relu', input_shape=(32, 32, 3)))\n",
        "model.add(layers.MaxPooling2D(pool_size=(2, 2), strides=2))\n",
        "\n",
        "model.add(layers.Conv2D(64, (3, 3), strides=1, padding='same', activation='relu'))\n",
        "model.add(layers.MaxPooling2D(pool_size=(2, 2), strides=1))\n"
      ],
      "metadata": {
        "id": "dE5ii-wwnRVq",
        "outputId": "ad6406e9-7d18-42b1-c10e-91569025068f",
        "colab": {
          "base_uri": "https://localhost:8080/"
        }
      },
      "execution_count": 27,
      "outputs": [
        {
          "output_type": "stream",
          "name": "stderr",
          "text": [
            "/usr/local/lib/python3.11/dist-packages/keras/src/layers/convolutional/base_conv.py:107: UserWarning: Do not pass an `input_shape`/`input_dim` argument to a layer. When using Sequential models, prefer using an `Input(shape)` object as the first layer in the model instead.\n",
            "  super().__init__(activity_regularizer=activity_regularizer, **kwargs)\n"
          ]
        }
      ]
    },
    {
      "cell_type": "markdown",
      "source": [
        "모델 구축 : 2번 Fully Connected Layer (완전 연결 layers)\n",
        "\n",
        " - 합성곱 layer(Convolutional Layer)\n",
        "\n",
        "   필터수, 커널 크기(커널 = filter), 활성화 함수 설정\n",
        "\n",
        "   input_shape = (32,32,3)인 이유는 RGB가 포함되었기 때문\n",
        "   \n",
        "\n",
        " - Pooling Layer : Max Pooling\n",
        "\n",
        "   Pooling filter size : (2 X 2)\n",
        "\n",
        "   Max Pooling : (2 X 2) 블록 내에서 가장 큰 값을 선정"
      ],
      "metadata": {
        "id": "ReA1ZtRq7tHz"
      }
    },
    {
      "cell_type": "code",
      "source": [
        "# CNN Model_2 : Fully Connected Layers(FC)\n",
        "\n"
      ],
      "metadata": {
        "id": "_ksdIpNIn0py"
      },
      "execution_count": null,
      "outputs": []
    }
  ]
}