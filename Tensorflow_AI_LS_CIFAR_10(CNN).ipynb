{
  "nbformat": 4,
  "nbformat_minor": 0,
  "metadata": {
    "colab": {
      "provenance": [],
      "authorship_tag": "ABX9TyMwWqarHvE+RsnTU3DupYVR",
      "include_colab_link": true
    },
    "kernelspec": {
      "name": "python3",
      "display_name": "Python 3"
    },
    "language_info": {
      "name": "python"
    }
  },
  "cells": [
    {
      "cell_type": "markdown",
      "metadata": {
        "id": "view-in-github",
        "colab_type": "text"
      },
      "source": [
        "<a href=\"https://colab.research.google.com/github/greapis/Python_practice/blob/main/Tensorflow_AI_LS_CIFAR_10(CNN).ipynb\" target=\"_parent\"><img src=\"https://colab.research.google.com/assets/colab-badge.svg\" alt=\"Open In Colab\"/></a>"
      ]
    },
    {
      "cell_type": "markdown",
      "source": [
        "CIFAR-10 Datasets은 제공됨\n",
        " - MNIST : from tensorflow.keras.datasets import mnist\n",
        " - CIFAR-10 Datasets 역시 keras에서 기본적으로 제공"
      ],
      "metadata": {
        "id": "WCWev_JrZUrW"
      }
    },
    {
      "cell_type": "code",
      "source": [
        "# Road library\n",
        "\n",
        "import tensorflow as tf\n",
        "from tensorflow.keras.datasets import cifar10\n",
        "  #  keras에서 Datasets 제공\n",
        "from tensorflow.keras import layers, models\n",
        "from tensor"
      ],
      "metadata": {
        "id": "r-kFHl77Zrb1"
      },
      "execution_count": 1,
      "outputs": []
    },
    {
      "cell_type": "code",
      "source": [],
      "metadata": {
        "id": "nwxwOCUFZ1sb"
      },
      "execution_count": null,
      "outputs": []
    }
  ]
}