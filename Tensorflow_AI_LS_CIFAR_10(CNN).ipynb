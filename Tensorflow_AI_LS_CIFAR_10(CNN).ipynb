{
  "nbformat": 4,
  "nbformat_minor": 0,
  "metadata": {
    "colab": {
      "provenance": [],
      "authorship_tag": "ABX9TyNpznUtHLHKBamRyPB05+NZ",
      "include_colab_link": true
    },
    "kernelspec": {
      "name": "python3",
      "display_name": "Python 3"
    },
    "language_info": {
      "name": "python"
    }
  },
  "cells": [
    {
      "cell_type": "markdown",
      "metadata": {
        "id": "view-in-github",
        "colab_type": "text"
      },
      "source": [
        "<a href=\"https://colab.research.google.com/github/greapis/Python_practice/blob/main/Tensorflow_AI_LS_CIFAR_10(CNN).ipynb\" target=\"_parent\"><img src=\"https://colab.research.google.com/assets/colab-badge.svg\" alt=\"Open In Colab\"/></a>"
      ]
    },
    {
      "cell_type": "markdown",
      "source": [
        "CIFAR-10 Datasets은 제공됨\n",
        " - MNIST : from tensorflow.keras.datasets import mnist\n",
        " - CIFAR-10 Datasets 역시 keras에서 기본적으로 제공"
      ],
      "metadata": {
        "id": "WCWev_JrZUrW"
      }
    },
    {
      "cell_type": "code",
      "source": [
        "# Road library\n",
        "\n",
        "import tensorflow as tf\n",
        "from tensorflow.keras.datasets import cifar10\n",
        "  #  keras에서 Datasets 제공\n",
        "\n",
        "from tensorflow.keras import layers, models\n",
        "from tensorflow.keras.utils import to_categorical\n",
        "  # using \"One-Hot Encoding\"\n",
        "\n",
        "import numpy as np\n",
        "from PIL import Image"
      ],
      "metadata": {
        "id": "r-kFHl77Zrb1"
      },
      "execution_count": 3,
      "outputs": []
    },
    {
      "cell_type": "markdown",
      "source": [
        "Data 전처리\n",
        " - X : 정규화(MNIST와 동일)\n",
        "\n",
        "     각 픽셀은 0과 255 사이의 정수값으로 설정됨\n",
        "     해당 값들을 0과 1로 정규화하는 것이 필요\n",
        "\n",
        " - Y : Label Encoding : One-Hot Encoding\n",
        "     각 클래스를 독립적인 카테고리로 인식하기 위함\n",
        "         airplaine  = [1,0,0,0,0,0,0,0,0,0]\n",
        "         automobile = [0,1,0,0,0,0,0,0,0,0]   "
      ],
      "metadata": {
        "id": "YaV8QbLnmhiT"
      }
    },
    {
      "cell_type": "code",
      "source": [
        "# Data 전처리\n",
        "\n"
      ],
      "metadata": {
        "id": "k5AiGK7yni-W"
      },
      "execution_count": null,
      "outputs": []
    }
  ]
}