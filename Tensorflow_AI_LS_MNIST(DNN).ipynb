{
  "nbformat": 4,
  "nbformat_minor": 0,
  "metadata": {
    "colab": {
      "provenance": [],
      "authorship_tag": "ABX9TyOFSPysVUxSGj8ja7900aJD",
      "include_colab_link": true
    },
    "kernelspec": {
      "name": "python3",
      "display_name": "Python 3"
    },
    "language_info": {
      "name": "python"
    }
  },
  "cells": [
    {
      "cell_type": "markdown",
      "metadata": {
        "id": "view-in-github",
        "colab_type": "text"
      },
      "source": [
        "<a href=\"https://colab.research.google.com/github/greapis/Python_practice/blob/main/Tensorflow_AI_LS_MNIST(DNN).ipynb\" target=\"_parent\"><img src=\"https://colab.research.google.com/assets/colab-badge.svg\" alt=\"Open In Colab\"/></a>"
      ]
    },
    {
      "cell_type": "markdown",
      "source": [
        "테스트할 이미지 전처리\n",
        "  - 모델 학습 단계에서 활용했던 이미지 형태로 전처리\n",
        "  - 사이즈 28 * 28 크기로 수정\n",
        "\n"
      ],
      "metadata": {
        "id": "zn_roIsDhgoE"
      }
    },
    {
      "cell_type": "code",
      "source": [
        "# Importing Libraries\n",
        "\n",
        "import tensorflow as tf\n",
        "from tensorflow.keras.models import Sequential\n",
        "from tensorflow.keras.layers import Dense, Flatten\n",
        "from tensorflow.keras.datasets import mnist\n",
        "from tensorflow.keras.utils import to_categorical"
      ],
      "metadata": {
        "id": "JLcHljG8jDif"
      },
      "execution_count": 8,
      "outputs": []
    },
    {
      "cell_type": "markdown",
      "source": [
        "Library 추가 설치\n",
        "\n",
        "Google Colab 및 Google Drive 관련 추가 설정 및 설치"
      ],
      "metadata": {
        "id": "jNdTEu9whwKS"
      }
    },
    {
      "cell_type": "code",
      "source": [
        "# 라이브러리 추가\n",
        "\n",
        "from tensorflow.keras.preprocessing import image\n",
        "  # 이미지 처리 기능 제공 (사이즈 조정)\n",
        "\n",
        "import numpy as np\n",
        "  # 연산 기능 제공 (이미지 픽셀 값 처리)\n",
        "\n",
        "from PIL import Image\n",
        "  # 이미지 처리 기능 제공 (파일 조작에 초점)\n",
        "\n",
        "\n",
        "# Importing Colab Libraries\n",
        "from google.colab import drive\n",
        "from tensorflow.keras.utils import img_to_array\n",
        "from tensorflow.keras.utils import load_img"
      ],
      "metadata": {
        "id": "MXBm6TGOhyrG"
      },
      "execution_count": 9,
      "outputs": []
    },
    {
      "cell_type": "code",
      "source": [
        "# 이미지 불러오기 (JPG 형태)\n",
        "\n",
        "img_path = r'C:\\Users\\JH\\Tensorflow Practice\\MNIST_Test_2.jpg'\n",
        "img = Image.open(img_path)"
      ],
      "metadata": {
        "colab": {
          "base_uri": "https://localhost:8080/",
          "height": 297
        },
        "id": "_YhJACFBil6_",
        "outputId": "d2da96fe-1be3-48a7-89df-b41dd4f78f25"
      },
      "execution_count": 7,
      "outputs": [
        {
          "output_type": "error",
          "ename": "FileNotFoundError",
          "evalue": "[Errno 2] No such file or directory: 'C:\\\\Users\\\\JH\\\\Tensorflow Practice\\\\MNIST_Test_2.jpg'",
          "traceback": [
            "\u001b[0;31m---------------------------------------------------------------------------\u001b[0m",
            "\u001b[0;31mFileNotFoundError\u001b[0m                         Traceback (most recent call last)",
            "\u001b[0;32m<ipython-input-7-c648284655fe>\u001b[0m in \u001b[0;36m<cell line: 0>\u001b[0;34m()\u001b[0m\n\u001b[1;32m      2\u001b[0m \u001b[0;34m\u001b[0m\u001b[0m\n\u001b[1;32m      3\u001b[0m \u001b[0mimg_path\u001b[0m \u001b[0;34m=\u001b[0m \u001b[0;34mr'C:\\Users\\JH\\Tensorflow Practice\\MNIST_Test_2.jpg'\u001b[0m\u001b[0;34m\u001b[0m\u001b[0;34m\u001b[0m\u001b[0m\n\u001b[0;32m----> 4\u001b[0;31m \u001b[0mimg\u001b[0m \u001b[0;34m=\u001b[0m \u001b[0mImage\u001b[0m\u001b[0;34m.\u001b[0m\u001b[0mopen\u001b[0m\u001b[0;34m(\u001b[0m\u001b[0mimg_path\u001b[0m\u001b[0;34m)\u001b[0m\u001b[0;34m\u001b[0m\u001b[0;34m\u001b[0m\u001b[0m\n\u001b[0m",
            "\u001b[0;32m/usr/local/lib/python3.11/dist-packages/PIL/Image.py\u001b[0m in \u001b[0;36mopen\u001b[0;34m(fp, mode, formats)\u001b[0m\n\u001b[1;32m   3463\u001b[0m \u001b[0;34m\u001b[0m\u001b[0m\n\u001b[1;32m   3464\u001b[0m     \u001b[0;32mif\u001b[0m \u001b[0mfilename\u001b[0m\u001b[0;34m:\u001b[0m\u001b[0;34m\u001b[0m\u001b[0;34m\u001b[0m\u001b[0m\n\u001b[0;32m-> 3465\u001b[0;31m         \u001b[0mfp\u001b[0m \u001b[0;34m=\u001b[0m \u001b[0mbuiltins\u001b[0m\u001b[0;34m.\u001b[0m\u001b[0mopen\u001b[0m\u001b[0;34m(\u001b[0m\u001b[0mfilename\u001b[0m\u001b[0;34m,\u001b[0m \u001b[0;34m\"rb\"\u001b[0m\u001b[0;34m)\u001b[0m\u001b[0;34m\u001b[0m\u001b[0;34m\u001b[0m\u001b[0m\n\u001b[0m\u001b[1;32m   3466\u001b[0m         \u001b[0mexclusive_fp\u001b[0m \u001b[0;34m=\u001b[0m \u001b[0;32mTrue\u001b[0m\u001b[0;34m\u001b[0m\u001b[0;34m\u001b[0m\u001b[0m\n\u001b[1;32m   3467\u001b[0m     \u001b[0;32melse\u001b[0m\u001b[0;34m:\u001b[0m\u001b[0;34m\u001b[0m\u001b[0;34m\u001b[0m\u001b[0m\n",
            "\u001b[0;31mFileNotFoundError\u001b[0m: [Errno 2] No such file or directory: 'C:\\\\Users\\\\JH\\\\Tensorflow Practice\\\\MNIST_Test_2.jpg'"
          ]
        }
      ]
    },
    {
      "cell_type": "code",
      "source": [
        "# 이미지 리사이징\n",
        "\n",
        "img = img.resize((28, 28))"
      ],
      "metadata": {
        "id": "N78Xh_9yjfaT"
      },
      "execution_count": null,
      "outputs": []
    },
    {
      "cell_type": "code",
      "source": [
        "# 이미지 형태 변환/스케일링\n",
        "\n"
      ],
      "metadata": {
        "id": "aKtwjd--mt0B"
      },
      "execution_count": null,
      "outputs": []
    }
  ]
}