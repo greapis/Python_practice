{
  "nbformat": 4,
  "nbformat_minor": 0,
  "metadata": {
    "colab": {
      "provenance": [],
      "authorship_tag": "ABX9TyPa3b3AAGDWvMcvvq66EJ6d",
      "include_colab_link": true
    },
    "kernelspec": {
      "name": "python3",
      "display_name": "Python 3"
    },
    "language_info": {
      "name": "python"
    }
  },
  "cells": [
    {
      "cell_type": "markdown",
      "metadata": {
        "id": "view-in-github",
        "colab_type": "text"
      },
      "source": [
        "<a href=\"https://colab.research.google.com/github/greapis/Python_practice/blob/main/Tensorflow_AI_LS_MNIST(DNN).ipynb\" target=\"_parent\"><img src=\"https://colab.research.google.com/assets/colab-badge.svg\" alt=\"Open In Colab\"/></a>"
      ]
    },
    {
      "cell_type": "markdown",
      "source": [
        "테스트할 이미지 전처리\n",
        "  - 모델 학습 단계에서 활용했던 이미지 형태로 전처리\n",
        "  - 사이즈 28 * 28 크기로 수정\n",
        "\n"
      ],
      "metadata": {
        "id": "zn_roIsDhgoE"
      }
    },
    {
      "cell_type": "code",
      "source": [
        "# Importing Libraries\n",
        "\n",
        "import tensorflow as tf\n",
        "from tensorflow.keras.models import Sequential\n",
        "from tensorflow.keras.models import load_model\n",
        "from tensorflow.keras.layers import Dense, Flatten\n",
        "from tensorflow.keras.datasets import mnist\n",
        "from tensorflow.keras.utils import to_categorical"
      ],
      "metadata": {
        "id": "JLcHljG8jDif"
      },
      "execution_count": 86,
      "outputs": []
    },
    {
      "cell_type": "markdown",
      "source": [
        "Library 추가 설치\n",
        "\n",
        "Google Colab 및 Google Drive 관련 추가 설정 및 설치"
      ],
      "metadata": {
        "id": "jNdTEu9whwKS"
      }
    },
    {
      "cell_type": "code",
      "source": [
        "# 라이브러리 추가\n",
        "\n",
        "from tensorflow.keras.preprocessing import image\n",
        "  # 이미지 처리 기능 제공 (사이즈 조정)\n",
        "\n",
        "import numpy as np\n",
        "  # 연산 기능 제공 (이미지 픽셀 값 처리)\n",
        "\n",
        "from PIL import Image\n",
        "  # 이미지 처리 기능 제공 (파일 조작에 초점)\n",
        "\n",
        "\n",
        "# Importing Colab Libraries\n",
        "from google.colab import drive\n",
        "from tensorflow.keras.utils import img_to_array\n",
        "from tensorflow.keras.utils import load_img\n",
        "\n",
        "# Connecting Google Drive\n",
        "drive.mount('/content/drive')"
      ],
      "metadata": {
        "id": "MXBm6TGOhyrG",
        "outputId": "55993837-8483-482d-e340-4155f9faafe1",
        "colab": {
          "base_uri": "https://localhost:8080/"
        }
      },
      "execution_count": 87,
      "outputs": [
        {
          "output_type": "stream",
          "name": "stdout",
          "text": [
            "Drive already mounted at /content/drive; to attempt to forcibly remount, call drive.mount(\"/content/drive\", force_remount=True).\n"
          ]
        }
      ]
    },
    {
      "cell_type": "markdown",
      "source": [
        "이미지 불러오기\n",
        "\n",
        "From Google Drive"
      ],
      "metadata": {
        "id": "IdEGlBqnC12w"
      }
    },
    {
      "cell_type": "code",
      "source": [
        "# Setting image file dictionary in Google Drive\n",
        "img_path = '/content/drive/MyDrive/Tensorflow/MNIST_Test_2.jpg'\n",
        "\n",
        "\n",
        "# Loading Image\n",
        "img = load_img(img_path, target_size=(224,224))\n",
        "  #  image 로딩 및 원하는 resizing - 원하는 크기로\n",
        "\n",
        "img"
      ],
      "metadata": {
        "id": "xXLFV6CuDAfi",
        "outputId": "1be19cc5-b6e5-49e2-dff7-e34a84ed8e64",
        "colab": {
          "base_uri": "https://localhost:8080/",
          "height": 241
        }
      },
      "execution_count": 89,
      "outputs": [
        {
          "output_type": "execute_result",
          "data": {
            "text/plain": [
              "<PIL.Image.Image image mode=RGB size=224x224>"
            ],
            "image/png": "[encoded data removed]",
            "image/jpeg": "[encoded data removed]"
          },
          "metadata": {},
          "execution_count": 89
        }
      ]
    },
    {
      "cell_type": "code",
      "source": [
        "# Chaning image to array\n",
        "    # -- I don't know why have to change image to arrar type\n",
        "\n",
        "img_array = np.array(img)\n",
        "  # image에서 숫자 배열(numpy array) 형태로 변환 : 이미지를 숫자로 표시?\n",
        "\n",
        "img_array"
      ],
      "metadata": {
        "id": "uP-aA5i1gUBU",
        "outputId": "24ab07ce-a522-47a8-8863-4739a751763e",
        "colab": {
          "base_uri": "https://localhost:8080/",
          "height": 264
        }
      },
      "execution_count": 90,
      "outputs": [
        {
          "output_type": "execute_result",
          "data": {
            "text/plain": [
              "array([[[255, 255, 255],\n",
              "        [255, 255, 255],\n",
              "        [255, 255, 255],\n",
              "        ...,\n",
              "        [255, 255, 255],\n",
              "        [255, 255, 255],\n",
              "        [255, 255, 255]],\n",
              "\n",
              "       [[255, 255, 255],\n",
              "        [255, 255, 255],\n",
              "        [255, 255, 255],\n",
              "        ...,\n",
              "        [255, 255, 255],\n",
              "        [255, 255, 255],\n",
              "        [255, 255, 255]],\n",
              "\n",
              "       [[255, 255, 255],\n",
              "        [255, 255, 255],\n",
              "        [255, 255, 255],\n",
              "        ...,\n",
              "        [255, 255, 255],\n",
              "        [255, 255, 255],\n",
              "        [255, 255, 255]],\n",
              "\n",
              "       ...,\n",
              "\n",
              "       [[255, 255, 255],\n",
              "        [255, 255, 255],\n",
              "        [255, 255, 255],\n",
              "        ...,\n",
              "        [255, 255, 255],\n",
              "        [255, 255, 255],\n",
              "        [255, 255, 255]],\n",
              "\n",
              "       [[255, 255, 255],\n",
              "        [255, 255, 255],\n",
              "        [255, 255, 255],\n",
              "        ...,\n",
              "        [255, 255, 255],\n",
              "        [255, 255, 255],\n",
              "        [255, 255, 255]],\n",
              "\n",
              "       [[255, 255, 255],\n",
              "        [255, 255, 255],\n",
              "        [255, 255, 255],\n",
              "        ...,\n",
              "        [255, 255, 255],\n",
              "        [255, 255, 255],\n",
              "        [255, 255, 255]]], dtype=uint8)"
            ],
            "text/html": [
              "<style>\n",
              "      .ndarray_repr .ndarray_raw_data {\n",
              "        display: none;\n",
              "      }\n",
              "      .ndarray_repr.show_array .ndarray_raw_data {\n",
              "        display: block;\n",
              "      }\n",
              "      .ndarray_repr.show_array .ndarray_image_preview {\n",
              "        display: none;\n",
              "      }\n",
              "      </style>\n",
              "      <div id=\"id-41d8f2dc-bf31-494f-940d-08b7dda5463d\" class=\"ndarray_repr\"><pre>ndarray (224, 224, 3) <button style=\"padding: 0 2px;\">show data</button></pre><img src=\"data:image/png;base64,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\" class=\"ndarray_image_preview\" /><pre class=\"ndarray_raw_data\">array([[[255, 255, 255],\n",
              "        [255, 255, 255],\n",
              "        [255, 255, 255],\n",
              "        ...,\n",
              "        [255, 255, 255],\n",
              "        [255, 255, 255],\n",
              "        [255, 255, 255]],\n",
              "\n",
              "       [[255, 255, 255],\n",
              "        [255, 255, 255],\n",
              "        [255, 255, 255],\n",
              "        ...,\n",
              "        [255, 255, 255],\n",
              "        [255, 255, 255],\n",
              "        [255, 255, 255]],\n",
              "\n",
              "       [[255, 255, 255],\n",
              "        [255, 255, 255],\n",
              "        [255, 255, 255],\n",
              "        ...,\n",
              "        [255, 255, 255],\n",
              "        [255, 255, 255],\n",
              "        [255, 255, 255]],\n",
              "\n",
              "       ...,\n",
              "\n",
              "       [[255, 255, 255],\n",
              "        [255, 255, 255],\n",
              "        [255, 255, 255],\n",
              "        ...,\n",
              "        [255, 255, 255],\n",
              "        [255, 255, 255],\n",
              "        [255, 255, 255]],\n",
              "\n",
              "       [[255, 255, 255],\n",
              "        [255, 255, 255],\n",
              "        [255, 255, 255],\n",
              "        ...,\n",
              "        [255, 255, 255],\n",
              "        [255, 255, 255],\n",
              "        [255, 255, 255]],\n",
              "\n",
              "       [[255, 255, 255],\n",
              "        [255, 255, 255],\n",
              "        [255, 255, 255],\n",
              "        ...,\n",
              "        [255, 255, 255],\n",
              "        [255, 255, 255],\n",
              "        [255, 255, 255]]], dtype=uint8)</pre></div><script>\n",
              "      (() => {\n",
              "      const titles = ['show data', 'hide data'];\n",
              "      let index = 0\n",
              "      document.querySelector('#id-41d8f2dc-bf31-494f-940d-08b7dda5463d button').onclick = (e) => {\n",
              "        document.querySelector('#id-41d8f2dc-bf31-494f-940d-08b7dda5463d').classList.toggle('show_array');\n",
              "        index = (++index) % 2;\n",
              "        document.querySelector('#id-41d8f2dc-bf31-494f-940d-08b7dda5463d button').textContent = titles[index];\n",
              "        e.preventDefault();\n",
              "        e.stopPropagation();\n",
              "      }\n",
              "      })();\n",
              "    </script>"
            ]
          },
          "metadata": {},
          "execution_count": 90
        }
      ]
    },
    {
      "cell_type": "code",
      "source": [
        "# 스케일링 변환 및 reshape\n",
        "\n",
        "img_array = img_array / 255.0\n",
        "  #  255로 나오는 array 값을 0~1로 스케일링 변환\n",
        "\n",
        "# img_array\n",
        "\n",
        "# img_array = img_array.reshape((1,28,28,1))\n",
        "\n",
        "img_array = img_array.reshape((1,224,224,3))"
      ],
      "metadata": {
        "id": "FH-GXW7KiBzD"
      },
      "execution_count": 102,
      "outputs": []
    },
    {
      "cell_type": "markdown",
      "source": [
        "Final Prediction"
      ],
      "metadata": {
        "id": "hrFP7bS5p7Xk"
      }
    },
    {
      "cell_type": "code",
      "source": [
        "# 최종 예측\n",
        "\n",
        "prediction = loaded_model.prediction(img_array)"
      ],
      "metadata": {
        "id": "WifiJ8IEqD9Z",
        "outputId": "9aefe42d-8e9e-4377-fd6b-386a422111cb",
        "colab": {
          "base_uri": "https://localhost:8080/",
          "height": 176
        }
      },
      "execution_count": 100,
      "outputs": [
        {
          "output_type": "error",
          "ename": "NameError",
          "evalue": "name 'loaded_model' is not defined",
          "traceback": [
            "\u001b[0;31m---------------------------------------------------------------------------\u001b[0m",
            "\u001b[0;31mNameError\u001b[0m                                 Traceback (most recent call last)",
            "\u001b[0;32m<ipython-input-100-b245162d51f3>\u001b[0m in \u001b[0;36m<cell line: 0>\u001b[0;34m()\u001b[0m\n\u001b[1;32m      1\u001b[0m \u001b[0;31m# 최종 예측\u001b[0m\u001b[0;34m\u001b[0m\u001b[0;34m\u001b[0m\u001b[0m\n\u001b[1;32m      2\u001b[0m \u001b[0;34m\u001b[0m\u001b[0m\n\u001b[0;32m----> 3\u001b[0;31m \u001b[0mprediction\u001b[0m \u001b[0;34m=\u001b[0m \u001b[0mloaded_model\u001b[0m\u001b[0;34m.\u001b[0m\u001b[0mprediction\u001b[0m\u001b[0;34m(\u001b[0m\u001b[0mimg_array\u001b[0m\u001b[0;34m)\u001b[0m\u001b[0;34m\u001b[0m\u001b[0;34m\u001b[0m\u001b[0m\n\u001b[0m",
            "\u001b[0;31mNameError\u001b[0m: name 'loaded_model' is not defined"
          ]
        }
      ]
    },
    {
      "cell_type": "code",
      "source": [],
      "metadata": {
        "id": "ZjUyNKGFqZWn"
      },
      "execution_count": null,
      "outputs": []
    }
  ]
}