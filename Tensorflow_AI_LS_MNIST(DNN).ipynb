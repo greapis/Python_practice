{
  "nbformat": 4,
  "nbformat_minor": 0,
  "metadata": {
    "colab": {
      "provenance": [],
      "authorship_tag": "ABX9TyP6geHGvuIcCwIsrDLCLtj3",
      "include_colab_link": true
    },
    "kernelspec": {
      "name": "python3",
      "display_name": "Python 3"
    },
    "language_info": {
      "name": "python"
    }
  },
  "cells": [
    {
      "cell_type": "markdown",
      "metadata": {
        "id": "view-in-github",
        "colab_type": "text"
      },
      "source": [
        "<a href=\"https://colab.research.google.com/github/greapis/Python_practice/blob/main/Tensorflow_AI_LS_MNIST(DNN).ipynb\" target=\"_parent\"><img src=\"https://colab.research.google.com/assets/colab-badge.svg\" alt=\"Open In Colab\"/></a>"
      ]
    },
    {
      "cell_type": "markdown",
      "source": [
        "테스트할 이미지 전처리\n",
        "  - 모델 학습 단계에서 활용했던 이미지 형태로 전처리\n",
        "  - 사이즈 28 * 28 크기로 수정\n",
        "\n"
      ],
      "metadata": {
        "id": "zn_roIsDhgoE"
      }
    },
    {
      "cell_type": "code",
      "source": [
        "# Importing Libraries\n",
        "\n",
        "import tensorflow as tf\n",
        "from tensorflow.keras.models import Sequential\n",
        "from tensorflow.keras.layers import Dense, Flatten\n",
        "from tensorflow.keras.datasets import mnist\n",
        "from tensorflow.keras.utils import to_categorical"
      ],
      "metadata": {
        "id": "JLcHljG8jDif"
      },
      "execution_count": 1,
      "outputs": []
    },
    {
      "cell_type": "markdown",
      "source": [
        "이미지 전처리"
      ],
      "metadata": {
        "id": "jNdTEu9whwKS"
      }
    },
    {
      "cell_type": "code",
      "source": [
        "# 라이브러리 추가\n",
        "\n",
        "from tensorflow.keras.preprocessing import image\n",
        "  # 이미지 처리 기능 제공 (사이즈 조정)\n",
        "import numpy as np\n",
        "  # 연산 기능 제공 (이미지 픽셀 값 처리)\n",
        "from PIL import Image\n",
        "  # 이미지 처리 기능 제공 (파일 조작에 초점)"
      ],
      "metadata": {
        "id": "MXBm6TGOhyrG"
      },
      "execution_count": 6,
      "outputs": []
    },
    {
      "cell_type": "code",
      "source": [
        "이미지 불러오기 (JPG 형태)"
      ],
      "metadata": {
        "id": "_YhJACFBil6_"
      },
      "execution_count": 2,
      "outputs": []
    }
  ]
}