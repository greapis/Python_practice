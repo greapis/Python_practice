{
  "nbformat": 4,
  "nbformat_minor": 0,
  "metadata": {
    "colab": {
      "provenance": [],
      "authorship_tag": "ABX9TyMYSy5mWAcp4p5YBNXTrRyV",
      "include_colab_link": true
    },
    "kernelspec": {
      "name": "python3",
      "display_name": "Python 3"
    },
    "language_info": {
      "name": "python"
    }
  },
  "cells": [
    {
      "cell_type": "markdown",
      "metadata": {
        "id": "view-in-github",
        "colab_type": "text"
      },
      "source": [
        "<a href=\"https://colab.research.google.com/github/greapis/Python_practice/blob/main/Python_function_practice.ipynb\" target=\"_parent\"><img src=\"https://colab.research.google.com/assets/colab-badge.svg\" alt=\"Open In Colab\"/></a>"
      ]
    },
    {
      "cell_type": "code",
      "execution_count": null,
      "metadata": {
        "colab": {
          "base_uri": "https://localhost:8080/"
        },
        "id": "PRlxAqdRHivf",
        "outputId": "8a1d5001-96ce-4c71-c09c-212817831704"
      },
      "outputs": [
        {
          "output_type": "stream",
          "name": "stdout",
          "text": [
            "Happy birthday to you!\n",
            "You are old\n",
            "Happy birthday to you!\n",
            "\n"
          ]
        }
      ],
      "source": [
        "# function = A block of resuable code\n",
        "            #  place () after the funtion name to invoke it\n",
        "\n",
        "def happy_birthday():\n",
        "    print(\"Happy birthday to you!\")\n",
        "    print(\"You are old\")\n",
        "    print(\"Happy birthday to you!\")\n",
        "    print()\n",
        "\n",
        "\n",
        "happy_birthday()"
      ]
    },
    {
      "cell_type": "code",
      "source": [
        "def happy_birthday(name):\n",
        "    print(f\"Happy birthday to {name}!\")\n",
        "    print(\"You are old\")\n",
        "    print(\"Happy birthday to you!\")\n",
        "    print()\n",
        "\n",
        "happy_birthday(\"Who\")"
      ],
      "metadata": {
        "colab": {
          "base_uri": "https://localhost:8080/"
        },
        "id": "Jonu4OcMIAXV",
        "outputId": "759dc27a-e04e-4dc3-9640-1cb4dd3c9f9f"
      },
      "execution_count": null,
      "outputs": [
        {
          "output_type": "stream",
          "name": "stdout",
          "text": [
            "Happy birthday to Who!\n",
            "You are old\n",
            "Happy birthday to you!\n",
            "\n"
          ]
        }
      ]
    },
    {
      "cell_type": "code",
      "source": [],
      "metadata": {
        "id": "Yknr2ceJISym"
      },
      "execution_count": null,
      "outputs": []
    }
  ]
}