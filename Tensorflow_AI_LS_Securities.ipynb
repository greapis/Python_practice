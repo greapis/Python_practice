{
  "nbformat": 4,
  "nbformat_minor": 0,
  "metadata": {
    "colab": {
      "provenance": [],
      "authorship_tag": "ABX9TyPErmya0z1PBEyeKWN3XRP1",
      "include_colab_link": true
    },
    "kernelspec": {
      "name": "python3",
      "display_name": "Python 3"
    },
    "language_info": {
      "name": "python"
    }
  },
  "cells": [
    {
      "cell_type": "markdown",
      "metadata": {
        "id": "view-in-github",
        "colab_type": "text"
      },
      "source": [
        "<a href=\"https://colab.research.google.com/github/greapis/Python_practice/blob/main/Tensorflow_AI_LS_Securities.ipynb\" target=\"_parent\"><img src=\"https://colab.research.google.com/assets/colab-badge.svg\" alt=\"Open In Colab\"/></a>"
      ]
    },
    {
      "cell_type": "markdown",
      "source": [
        "One-hot encoding은 텐서플로우(TensorFlow)와 AI 작업에서 자주 사용되는 데이터 전처리 기법입니다[1][4]. 이 방법은 범주형 데이터를 숫자 형태의 벡터로 변환하는 과정으로, 다음과 같은 특징을 가집니다:\n",
        "\n",
        "1. 벡터 표현: 각 범주를 고유한 이진 벡터로 표현합니다[1][4].\n",
        "2. 차원 설정: 벡터의 차원은 전체 범주의 수와 같습니다[4].\n",
        "3. 인코딩 방식: 해당 범주를 나타내는 인덱스에는 1을, 나머지 위치에는 0을 할당합니다[1][4].\n",
        "\n",
        "## 예시\n",
        "\n",
        "예를 들어, 다음과 같은 범주가 있다고 가정해봅시다:\n",
        "\n",
        "$$'사과', '바나나', '오렌지'$$\n",
        "\n",
        "이를 one-hot encoding으로 표현하면:\n",
        "\n",
        "- 사과: $$1, 0, 0$$\n",
        "- 바나나: $$0, 1, 0$$\n",
        "- 오렌지: $$0, 0, 1$$\n",
        "\n",
        "## TensorFlow에서의 구현\n",
        "\n",
        "TensorFlow에서는 `tf.one_hot()` 함수를 사용하여 쉽게 one-hot encoding을 구현할 수 있습니다[5]. 예를 들어:\n",
        "\n",
        "```python\n",
        "import tensorflow as tf\n",
        "\n",
        "indices = [0, 1, 2]\n",
        "depth = 3\n",
        "result = tf.one_hot(indices, depth)\n",
        "```\n",
        "\n",
        "이 코드는 다음과 같은 결과를 생성합니다:\n",
        "\n",
        "```\n",
        "[[1., 0., 0.],\n",
        " [0., 1., 0.],\n",
        " [0., 0., 1.]]\n",
        "```\n",
        "\n",
        "One-hot encoding은 텍스트 데이터 처리, 이미지 분류, 자연어 처리 등 다양한 AI 작업에서 중요한 역할을 합니다[1][3][4]. 이 기법을 통해 범주형 데이터를 신경망이 처리할 수 있는 수치 형태로 변환하여 효과적인 학습과 예측이 가능해집니다.\n",
        "\n",
        "Citations:\n",
        "[1] https://wikidocs.net/196157\n",
        "[2] https://chematdev.tistory.com/19\n",
        "[3] https://tensorflow.blog/%EC%BC%80%EB%9D%BC%EC%8A%A4-%EB%94%A5%EB%9F%AC%EB%8B%9D/3-4-%EC%98%81%ED%99%94-%EB%A6%AC%EB%B7%B0-%EB%B6%84%EB%A5%98-%EC%9D%B4%EC%A7%84-%EB%B6%84%EB%A5%98-%EC%98%88%EC%A0%9C/\n",
        "[4] https://wikidocs.net/22647\n",
        "[5] https://www.tensorflow.org/api_docs/python/tf/one_hot\n",
        "[6] https://kidcozykim.tistory.com\n",
        "[7] https://deep-eye.tistory.com/67\n",
        "[8] https://blog.naver.com/wideeyed/221164692553?viewType=pc\n",
        "[9] https://www.dinolabs.ai/191"
      ],
      "metadata": {
        "id": "iYlgzlbsXt1C"
      }
    },
    {
      "cell_type": "code",
      "source": [
        "# One-hot endocing\n",
        "\n"
      ],
      "metadata": {
        "id": "yrrGnkIuXwiX"
      },
      "execution_count": 1,
      "outputs": []
    }
  ]
}