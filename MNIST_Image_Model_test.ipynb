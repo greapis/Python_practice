{
  "nbformat": 4,
  "nbformat_minor": 0,
  "metadata": {
    "colab": {
      "provenance": [],
      "gpuType": "T4",
      "authorship_tag": "ABX9TyNFC61aSGu+J+UYbK+kxV3K",
      "include_colab_link": true
    },
    "kernelspec": {
      "name": "python3",
      "display_name": "Python 3"
    },
    "language_info": {
      "name": "python"
    },
    "accelerator": "GPU"
  },
  "cells": [
    {
      "cell_type": "markdown",
      "metadata": {
        "id": "view-in-github",
        "colab_type": "text"
      },
      "source": [
        "<a href=\"https://colab.research.google.com/github/greapis/Python_practice/blob/main/MNIST_Image_Model_test.ipynb\" target=\"_parent\"><img src=\"https://colab.research.google.com/assets/colab-badge.svg\" alt=\"Open In Colab\"/></a>"
      ]
    },
    {
      "cell_type": "markdown",
      "source": [
        "<특정 폴더에 숫자 그림 파일에 대해서 이 숫자를 제대로 인식하는 ANN Python 코드>\n",
        "\n",
        "google Colab으로 실행하고, 파일을 google drive에 있는 걸로 하는 방법\n",
        "\n",
        "\n"
      ],
      "metadata": {
        "id": "DJaJAIFOE_jp"
      }
    },
    {
      "cell_type": "code",
      "source": [
        "# Importing Libraries\n",
        "\n",
        "from google.colab import drive\n",
        "import os\n",
        "import numpy as np\n",
        "import cv2\n",
        "from sklearn.model_selection import train_test_split\n",
        "import tensorflow as tf\n",
        "from tensorflow.keras.preprocessing import image\n",
        "from tensorflow.keras.models import Sequential\n",
        "from tensorflow.keras.layers import Dense, Flatten\n",
        "from tensorflow.keras.utils import to_categorical"
      ],
      "metadata": {
        "id": "RC2aoWdeFHe9"
      },
      "execution_count": 1,
      "outputs": []
    },
    {
      "cell_type": "markdown",
      "source": [
        "Checking the possibility of Using GPUs\n",
        "\n",
        "-- GPUs를 시스템에서 사용할 수 있는지,\n",
        "\n",
        "-- 사용 가능한 GPUs가 있는지 확인하는 코드"
      ],
      "metadata": {
        "id": "PJ1M9ieJHTLK"
      }
    },
    {
      "cell_type": "code",
      "source": [
        "import tensorflow as tf\n",
        "print(tf.test.gpu_device_name())\n",
        "\n",
        "# tf.test.gpu_device_name() returns /device:GPU:0: This confirms that TensorFlow can detect and utilize a GPU. The 0 indicates that it is using the first GPU."
      ],
      "metadata": {
        "id": "J-zg7N7CHVjH",
        "outputId": "749cfaee-6bdc-44cf-9cda-6f9d7efb2fce",
        "colab": {
          "base_uri": "https://localhost:8080/"
        }
      },
      "execution_count": 2,
      "outputs": [
        {
          "output_type": "stream",
          "name": "stdout",
          "text": [
            "/device:GPU:0\n"
          ]
        }
      ]
    },
    {
      "cell_type": "code",
      "source": [
        "import tensorflow as tf\n",
        "print(\"GPU available:\", tf.config.list_physical_devices('GPU'))\n",
        "\n",
        "# tf.config.list_physical_devices('GPU') returns a list containing a PhysicalDevice object: This further confirms GPU availability. The output shows the name and type of the detected GPU device."
      ],
      "metadata": {
        "id": "bgbUVv0zHV8g",
        "outputId": "48f0ebb5-6448-4177-9ebb-92216647ed42",
        "colab": {
          "base_uri": "https://localhost:8080/"
        }
      },
      "execution_count": 3,
      "outputs": [
        {
          "output_type": "stream",
          "name": "stdout",
          "text": [
            "GPU available: [PhysicalDevice(name='/physical_device:GPU:0', device_type='GPU')]\n"
          ]
        }
      ]
    },
    {
      "cell_type": "code",
      "source": [
        "# Google Drive 마운트\n",
        "drive.mount('/content/drive')"
      ],
      "metadata": {
        "id": "-Ru-aeo2FbpF",
        "outputId": "f47cdb7b-4347-4a6c-f426-a0b62c8af6d0",
        "colab": {
          "base_uri": "https://localhost:8080/"
        }
      },
      "execution_count": 4,
      "outputs": [
        {
          "output_type": "stream",
          "name": "stdout",
          "text": [
            "Mounted at /content/drive\n"
          ]
        }
      ]
    },
    {
      "cell_type": "code",
      "source": [],
      "metadata": {
        "id": "_PGrP94vHbVt"
      },
      "execution_count": 4,
      "outputs": []
    }
  ]
}