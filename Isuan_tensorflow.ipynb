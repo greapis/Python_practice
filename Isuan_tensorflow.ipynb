{
  "nbformat": 4,
  "nbformat_minor": 0,
  "metadata": {
    "colab": {
      "provenance": [],
      "authorship_tag": "ABX9TyNWQwDw8wb8/ZwHp9qB6Ecs",
      "include_colab_link": true
    },
    "kernelspec": {
      "name": "python3",
      "display_name": "Python 3"
    },
    "language_info": {
      "name": "python"
    }
  },
  "cells": [
    {
      "cell_type": "markdown",
      "metadata": {
        "id": "view-in-github",
        "colab_type": "text"
      },
      "source": [
        "<a href=\"https://colab.research.google.com/github/greapis/Python_practice/blob/main/Isuan_tensorflow.ipynb\" target=\"_parent\"><img src=\"https://colab.research.google.com/assets/colab-badge.svg\" alt=\"Open In Colab\"/></a>"
      ]
    },
    {
      "cell_type": "code",
      "execution_count": 11,
      "metadata": {
        "colab": {
          "base_uri": "https://localhost:8080/"
        },
        "id": "DNKl_KS_DH_C",
        "outputId": "0c278485-80a8-4e15-a95b-f6c491873e13"
      },
      "outputs": [
        {
          "output_type": "stream",
          "name": "stdout",
          "text": [
            "2.17.0\n",
            "1.26.4\n"
          ]
        }
      ],
      "source": [
        "import numpy as np\n",
        "import tensorflow as tf\n",
        "\n",
        "print(tf.__version__)\n",
        "print(np.__version__)"
      ]
    },
    {
      "cell_type": "code",
      "source": [
        "# xData = [1, 2, 3, 4, 5, 6, 7]\n",
        "# yData = [25,000,  55,000, 75,000, 110,000, 128,000, 155,000, 180,000]\n",
        "\n",
        "# W = tf.Variable(tf.random.uniform([1], -100, 100))\n",
        "# b = tf.Variable(tf.random.uniform([1], -100, 100))\n",
        "# X = xData = tf.constant(xData, dtype=tf.float32)\n",
        "# Y = yData = tf.constant(yData, dtype=tf.float32)\n",
        "# H = W * X + b"
      ],
      "metadata": {
        "id": "kEIMCLOdDsvD"
      },
      "execution_count": 12,
      "outputs": []
    },
    {
      "cell_type": "code",
      "source": [
        "# cost = tf.reduce_mean(tf.square(H - Y))\n",
        "# a = tf.Variable(0.01)\n",
        "# optimizer = tf.train.GradientDescentOptimizer(a)\n",
        "# train = optimizer.minimize(cost)\n",
        "# init = tf.global_variables_initializer()\n",
        "# sess = tf.Session()\n",
        "# sess.run(init)"
      ],
      "metadata": {
        "id": "pQA3a7ElMLQ1"
      },
      "execution_count": 13,
      "outputs": []
    },
    {
      "cell_type": "code",
      "source": [
        "# for i in range(5001):\n",
        "#   sess.run(train, feed_dict={X: xData, Y: yData})\n",
        "#   if i % 500 == 0:\n",
        "#     print(i, sess.run(cost, feed_dict={X: xData, Y: yData}), sess.run(W), sess.run(b))\n",
        "# print (sess.run(H, feed_dict={X: [8]}))"
      ],
      "metadata": {
        "id": "ZMt4ZbpkdVq8"
      },
      "execution_count": 14,
      "outputs": []
    },
    {
      "cell_type": "code",
      "source": [
        "import tensorflow as tf\n",
        "\n",
        "# 데이터 준비\n",
        "xData = [1, 2, 3, 4, 5, 6, 7]\n",
        "yData = [25000, 55000, 75000, 110000, 128000, 155000, 180000]  # Corrected yData\n",
        "\n",
        "# 변수 초기화\n",
        "W = tf.Variable(tf.random.uniform([1], -100, 100))\n",
        "b = tf.Variable(tf.random.uniform([1], -100, 100))"
      ],
      "metadata": {
        "id": "oF7iiB6HfJ3-"
      },
      "execution_count": 15,
      "outputs": []
    },
    {
      "cell_type": "code",
      "source": [
        "# 모델 정의\n",
        "def model(X):\n",
        "  # Convert X to float32 before multiplication\n",
        "  return W * tf.cast(X, dtype=tf.float32) + b\n",
        "\n",
        "# 손실 함수 정의\n",
        "def compute_loss(Y_pred, Y_true):\n",
        "  return tf.reduce_mean(tf.square(Y_pred - Y_true))\n",
        "\n",
        "# 옵티마이저 정의\n",
        "optimizer = tf.optimizers.SGD(learning_rate = 0.01)"
      ],
      "metadata": {
        "id": "cyaBvWF4gFtW"
      },
      "execution_count": 16,
      "outputs": []
    },
    {
      "cell_type": "code",
      "source": [
        "#  학습 함수 정의\n",
        "def train_step(X, Y):\n",
        "  with tf.GradientTape() as tape:\n",
        "    Y_pred = model(X)\n",
        "    # Cast Y to float32 before calculating loss\n",
        "    loss = compute_loss(Y_pred, tf.cast(Y, dtype=tf.float32))\n",
        "  gradients = tape.gradient(loss, [W, b])\n",
        "  optimizer.apply_gradients(zip(gradients, [W, b]))\n",
        "  return loss\n",
        "\n",
        "#  데이터셋 준비\n",
        "dataset = tf.data.Dataset.from_tensor_slices((xData, yData)).batch(len(xData)) # Now xData and yData have the same length"
      ],
      "metadata": {
        "id": "5zXoNX0TgfgB"
      },
      "execution_count": 17,
      "outputs": []
    },
    {
      "cell_type": "code",
      "source": [
        "# 학습\n",
        "for epoch in range(1001):\n",
        "  for X_batch, Y_batch in dataset:\n",
        "    loss = train_step(X_batch, Y_batch)\n",
        "  if epoch % 100 ==0:\n",
        "    print(f'Epoch {epoch}: Loss = {loss.numpy()}, W = {W.numpy()}, b = {b.numpy()}')"
      ],
      "metadata": {
        "id": "pOKCoywdhCty",
        "outputId": "c737542d-dc0b-4095-9f76-d2a0a2b85a13",
        "colab": {
          "base_uri": "https://localhost:8080/"
        }
      },
      "execution_count": 18,
      "outputs": [
        {
          "output_type": "stream",
          "name": "stdout",
          "text": [
            "Epoch 0: Loss = 13534172160.0, W = [10341.242], b = [2008.4014]\n",
            "Epoch 100: Loss = 9792839.0, W = [25158.441], b = [3827.3699]\n",
            "Epoch 200: Loss = 9169606.0, W = [25313.307], b = [3060.4873]\n",
            "Epoch 300: Loss = 8881165.0, W = [25418.662], b = [2538.7751]\n",
            "Epoch 400: Loss = 8747665.0, W = [25490.336], b = [2183.8496]\n",
            "Epoch 500: Loss = 8685885.0, W = [25539.096], b = [1942.3926]\n",
            "Epoch 600: Loss = 8657282.0, W = [25572.27], b = [1778.1263]\n",
            "Epoch 700: Loss = 8644057.0, W = [25594.836], b = [1666.3744]\n",
            "Epoch 800: Loss = 8637926.0, W = [25610.188], b = [1590.3501]\n",
            "Epoch 900: Loss = 8635098.0, W = [25620.633], b = [1538.6305]\n",
            "Epoch 1000: Loss = 8633783.0, W = [25627.736], b = [1503.4479]\n"
          ]
        }
      ]
    },
    {
      "cell_type": "code",
      "source": [
        "import tensorflow as tf\n",
        "\n",
        "a = tf.constant(1)\n",
        "b = tf.constant(2)\n",
        "\n",
        "c = tf.add(a, b)\n",
        "# sess = tf.Session()\n",
        "# sess.run(c)\n",
        "\n",
        "c"
      ],
      "metadata": {
        "id": "onyyrSSPlXBN",
        "outputId": "15ff3367-c38b-41c1-8e39-8861eaf73840",
        "colab": {
          "base_uri": "https://localhost:8080/"
        }
      },
      "execution_count": 19,
      "outputs": [
        {
          "output_type": "execute_result",
          "data": {
            "text/plain": [
              "<tf.Tensor: shape=(), dtype=int32, numpy=3>"
            ]
          },
          "metadata": {},
          "execution_count": 19
        }
      ]
    },
    {
      "cell_type": "code",
      "source": [
        "import tensorflow as tf\n",
        "\n",
        "a = tf.Variable(5)\n",
        "b = tf.Variable(3)\n",
        "\n",
        "c = tf.multiply(a, b)\n",
        "# init = tf.global_variables_initializer()\n",
        "\n",
        "print(c)"
      ],
      "metadata": {
        "id": "pFYrjzgnsuK4",
        "outputId": "a3192a98-8013-4096-c943-a8d6b62799b4",
        "colab": {
          "base_uri": "https://localhost:8080/"
        }
      },
      "execution_count": 20,
      "outputs": [
        {
          "output_type": "stream",
          "name": "stdout",
          "text": [
            "tf.Tensor(15, shape=(), dtype=int32)\n"
          ]
        }
      ]
    },
    {
      "cell_type": "code",
      "source": [
        "import tensorflow as tf\n",
        "\n",
        "input_data = [1, 2, 3, 4, 5]\n",
        "\n",
        "# x = tf.placeholder(dtype=tf.float32)\n",
        "x = tf.constant(input_data, dtype=tf.float32)\n",
        "y = x + 5\n",
        "\n",
        "# sess = tf.Session()\n",
        "# sess.run(y, feed_dict={x: input})\n",
        "\n",
        "# print(y)\n",
        "\n",
        "print(y.numpy())"
      ],
      "metadata": {
        "id": "Pv3AiiAAtm3_",
        "outputId": "b2e24b76-bde9-4113-e54f-10ffe29df8f3",
        "colab": {
          "base_uri": "https://localhost:8080/"
        }
      },
      "execution_count": 28,
      "outputs": [
        {
          "output_type": "stream",
          "name": "stdout",
          "text": [
            "[ 6.  7.  8.  9. 10.]\n"
          ]
        }
      ]
    },
    {
      "cell_type": "code",
      "source": [
        "import tensorflow as tf\n",
        "import numpy as np\n",
        "\n",
        "mathscore = [85, 99, 84, 97, 92]\n",
        "englishscore = [59, 80, 84, 68, 77]\n",
        "\n",
        "a = tf.constant(mathscore, dtype=tf.float32)\n",
        "b = tf.constant(englishscore, dtype=tf.float32)\n",
        "\n",
        "# a = tf.placeholder(dtype=tf.float32)\n",
        "# b = tf.placeholder(dtype=tf.float32)\n",
        "\n",
        "y = (a + b) / 2\n",
        "\n",
        "# sess = tf.Session()\n",
        "# sess.run(y, feed_dict={a: mathscore, b: englishscore})\n",
        "\n",
        "print(y.numpy())"
      ],
      "metadata": {
        "id": "RKvRFRSeKwW3",
        "outputId": "a3a02e07-fdb6-4c86-af66-a1f318b5b0d1",
        "colab": {
          "base_uri": "https://localhost:8080/"
        }
      },
      "execution_count": 34,
      "outputs": [
        {
          "output_type": "stream",
          "name": "stdout",
          "text": [
            "[72.  89.5 84.  82.5 84.5]\n"
          ]
        }
      ]
    },
    {
      "cell_type": "code",
      "source": [],
      "metadata": {
        "id": "0tYBIr6aL44v"
      },
      "execution_count": null,
      "outputs": []
    }
  ]
}