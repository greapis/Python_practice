{
  "nbformat": 4,
  "nbformat_minor": 0,
  "metadata": {
    "colab": {
      "provenance": [],
      "authorship_tag": "ABX9TyM6cgGQ7mhhCij+LM9DLV0F",
      "include_colab_link": true
    },
    "kernelspec": {
      "name": "python3",
      "display_name": "Python 3"
    },
    "language_info": {
      "name": "python"
    }
  },
  "cells": [
    {
      "cell_type": "markdown",
      "metadata": {
        "id": "view-in-github",
        "colab_type": "text"
      },
      "source": [
        "<a href=\"https://colab.research.google.com/github/greapis/Python_practice/blob/main/Isuan_tensorflow.ipynb\" target=\"_parent\"><img src=\"https://colab.research.google.com/assets/colab-badge.svg\" alt=\"Open In Colab\"/></a>"
      ]
    },
    {
      "cell_type": "code",
      "execution_count": 43,
      "metadata": {
        "colab": {
          "base_uri": "https://localhost:8080/"
        },
        "id": "DNKl_KS_DH_C",
        "outputId": "5978852e-2d3b-46dc-cdde-46738019f78d"
      },
      "outputs": [
        {
          "output_type": "stream",
          "name": "stdout",
          "text": [
            "2.17.0\n",
            "1.26.4\n"
          ]
        }
      ],
      "source": [
        "import numpy as np\n",
        "import tensorflow as tf\n",
        "\n",
        "print(tf.__version__)\n",
        "print(np.__version__)"
      ]
    },
    {
      "cell_type": "code",
      "source": [
        "# xData = [1, 2, 3, 4, 5, 6, 7]\n",
        "# yData = [25,000,  55,000, 75,000, 110,000, 128,000, 155,000, 180,000]\n",
        "\n",
        "# W = tf.Variable(tf.random.uniform([1], -100, 100))\n",
        "# b = tf.Variable(tf.random.uniform([1], -100, 100))\n",
        "# X = xData = tf.constant(xData, dtype=tf.float32)\n",
        "# Y = yData = tf.constant(yData, dtype=tf.float32)\n",
        "# H = W * X + b"
      ],
      "metadata": {
        "id": "kEIMCLOdDsvD"
      },
      "execution_count": 44,
      "outputs": []
    },
    {
      "cell_type": "code",
      "source": [
        "# cost = tf.reduce_mean(tf.square(H - Y))\n",
        "# a = tf.Variable(0.01)\n",
        "# optimizer = tf.train.GradientDescentOptimizer(a)\n",
        "# train = optimizer.minimize(cost)\n",
        "# init = tf.global_variables_initializer()\n",
        "# sess = tf.Session()\n",
        "# sess.run(init)"
      ],
      "metadata": {
        "id": "pQA3a7ElMLQ1"
      },
      "execution_count": 45,
      "outputs": []
    },
    {
      "cell_type": "code",
      "source": [
        "# for i in range(5001):\n",
        "#   sess.run(train, feed_dict={X: xData, Y: yData})\n",
        "#   if i % 500 == 0:\n",
        "#     print(i, sess.run(cost, feed_dict={X: xData, Y: yData}), sess.run(W), sess.run(b))\n",
        "# print (sess.run(H, feed_dict={X: [8]}))"
      ],
      "metadata": {
        "id": "ZMt4ZbpkdVq8"
      },
      "execution_count": 46,
      "outputs": []
    },
    {
      "cell_type": "code",
      "source": [
        "import tensorflow as tf\n",
        "\n",
        "# 데이터 준비\n",
        "xData = [1, 2, 3, 4, 5, 6, 7]\n",
        "yData = [25000, 55000, 75000, 110000, 128000, 155000, 180000]  # Corrected yData\n",
        "\n",
        "# 변수 초기화\n",
        "W = tf.Variable(tf.random.uniform([1], -100, 100))\n",
        "b = tf.Variable(tf.random.uniform([1], -100, 100))"
      ],
      "metadata": {
        "id": "oF7iiB6HfJ3-"
      },
      "execution_count": 47,
      "outputs": []
    },
    {
      "cell_type": "code",
      "source": [
        "# 모델 정의\n",
        "def model(X):\n",
        "  # Convert X to float32 before multiplication\n",
        "  return W * tf.cast(X, dtype=tf.float32) + b\n",
        "\n",
        "# 손실 함수 정의\n",
        "def compute_loss(Y_pred, Y_true):\n",
        "  return tf.reduce_mean(tf.square(Y_pred - Y_true))\n",
        "\n",
        "# 옵티마이저 정의\n",
        "optimizer = tf.optimizers.SGD(learning_rate = 0.01)"
      ],
      "metadata": {
        "id": "cyaBvWF4gFtW"
      },
      "execution_count": 51,
      "outputs": []
    },
    {
      "cell_type": "code",
      "source": [
        "#  학습 함수 정의\n",
        "def train_step(X, Y):\n",
        "  with tf.GradientTape() as tape:\n",
        "    Y_pred = model(X)\n",
        "    # Cast Y to float32 before calculating loss\n",
        "    loss = compute_loss(Y_pred, tf.cast(Y, dtype=tf.float32))\n",
        "  gradients = tape.gradient(loss, [W, b])\n",
        "  optimizer.apply_gradients(zip(gradients, [W, b]))\n",
        "  return loss\n",
        "\n",
        "#  데이터셋 준비\n",
        "dataset = tf.data.Dataset.from_tensor_slices((xData, yData)).batch(len(xData)) # Now xData and yData have the same length"
      ],
      "metadata": {
        "id": "5zXoNX0TgfgB"
      },
      "execution_count": 54,
      "outputs": []
    },
    {
      "cell_type": "code",
      "source": [
        "# 학습\n",
        "for epoch in range(1001):\n",
        "  for X_batch, Y_batch in dataset:\n",
        "    loss = train_step(X_batch, Y_batch)\n",
        "  if epoch % 100 ==0:\n",
        "    print(f'Epoch {epoch}: Loss = {loss.numpy()}, W = {W.numpy()}, b = {b.numpy()}')"
      ],
      "metadata": {
        "id": "pOKCoywdhCty",
        "outputId": "8a3b2d50-73c8-4454-cc4d-6a9e0c865ffb",
        "colab": {
          "base_uri": "https://localhost:8080/"
        }
      },
      "execution_count": 55,
      "outputs": [
        {
          "output_type": "stream",
          "name": "stdout",
          "text": [
            "Epoch 0: Loss = 13462857728.0, W = [10347.889], b = [2174.6604]\n",
            "Epoch 100: Loss = 9899456.0, W = [25136.672], b = [3935.1694]\n",
            "Epoch 200: Loss = 9218947.0, W = [25298.496], b = [3133.824]\n",
            "Epoch 300: Loss = 8903998.0, W = [25408.588], b = [2588.6643]\n",
            "Epoch 400: Loss = 8758233.0, W = [25483.482], b = [2217.788]\n",
            "Epoch 500: Loss = 8690774.0, W = [25534.434], b = [1965.4796]\n",
            "Epoch 600: Loss = 8659555.0, W = [25569.096], b = [1793.8344]\n",
            "Epoch 700: Loss = 8645100.0, W = [25592.676], b = [1677.0625]\n",
            "Epoch 800: Loss = 8638417.0, W = [25608.719], b = [1597.6224]\n",
            "Epoch 900: Loss = 8635314.0, W = [25619.633], b = [1543.5793]\n",
            "Epoch 1000: Loss = 8633884.0, W = [25627.059], b = [1506.811]\n"
          ]
        }
      ]
    },
    {
      "cell_type": "code",
      "source": [],
      "metadata": {
        "id": "onyyrSSPlXBN"
      },
      "execution_count": null,
      "outputs": []
    }
  ]
}