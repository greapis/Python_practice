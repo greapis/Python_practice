{
  "nbformat": 4,
  "nbformat_minor": 0,
  "metadata": {
    "colab": {
      "provenance": [],
      "authorship_tag": "ABX9TyN/9u0HX1hnaxsWYq4eeM6X",
      "include_colab_link": true
    },
    "kernelspec": {
      "name": "python3",
      "display_name": "Python 3"
    },
    "language_info": {
      "name": "python"
    }
  },
  "cells": [
    {
      "cell_type": "markdown",
      "metadata": {
        "id": "view-in-github",
        "colab_type": "text"
      },
      "source": [
        "<a href=\"https://colab.research.google.com/github/greapis/Python_practice/blob/main/Python_tutorial.ipynb\" target=\"_parent\"><img src=\"https://colab.research.google.com/assets/colab-badge.svg\" alt=\"Open In Colab\"/></a>"
      ]
    },
    {
      "cell_type": "markdown",
      "source": [
        "## \"Whiel loop\"\n",
        "= execute come code WHILE some condition remains true **굵은 텍스트**"
      ],
      "metadata": {
        "id": "Dtci0odKCfR0"
      }
    },
    {
      "cell_type": "code",
      "source": [
        "while name ==\"\":\n",
        "  print(\"You did not enter your name\")\n",
        "  name  = input(\"Enter your name: \")\n",
        "\n",
        "print(f\"Hello {name}\")\n"
      ],
      "metadata": {
        "colab": {
          "base_uri": "https://localhost:8080/"
        },
        "id": "5RFLADR2DZVb",
        "outputId": "596d94af-1e47-4ce7-f68d-5951201ee524"
      },
      "execution_count": null,
      "outputs": [
        {
          "output_type": "stream",
          "name": "stdout",
          "text": [
            "Hello Jaeh\n"
          ]
        }
      ]
    },
    {
      "cell_type": "code",
      "source": [
        "while name ==\"\":\n",
        "  print(\"You did not enter your name\")\n",
        "\n",
        "print(f\"Hello {name}\")\n"
      ],
      "metadata": {
        "colab": {
          "base_uri": "https://localhost:8080/"
        },
        "id": "b0fopxD9DoOj",
        "outputId": "00a24819-2517-457d-e187-498895b2b601"
      },
      "execution_count": null,
      "outputs": [
        {
          "output_type": "stream",
          "name": "stdout",
          "text": [
            "Hello Jaeh\n"
          ]
        }
      ]
    },
    {
      "cell_type": "code",
      "source": [
        "name = input(\"Enter your name: \")\n",
        "\n",
        "if name == \"\":\n",
        "  print(\"You did not enter your name\")\n",
        "else:\n",
        "  print(f\"Hello {name}\")"
      ],
      "metadata": {
        "colab": {
          "base_uri": "https://localhost:8080/"
        },
        "id": "Rw2PynDeD_KC",
        "outputId": "f71e1e48-a9c1-4e66-9743-12e1b2b0d49b"
      },
      "execution_count": null,
      "outputs": [
        {
          "output_type": "stream",
          "name": "stdout",
          "text": [
            "Enter your name: shim\n",
            "Hello shim\n"
          ]
        }
      ]
    },
    {
      "cell_type": "code",
      "source": [
        "age = int(input(\"Enter your age: \"))\n",
        "\n",
        "while age < 0:\n",
        "  print(\"Age cannot be negative\")\n",
        "  age = int(input(\"Enter your age: \"))\n",
        "\n",
        "print(f\"You are {age} years old\")"
      ],
      "metadata": {
        "colab": {
          "base_uri": "https://localhost:8080/"
        },
        "id": "6vErsP-WEP3n",
        "outputId": "930b0162-c20f-4034-c2f0-179883b86b35"
      },
      "execution_count": null,
      "outputs": [
        {
          "output_type": "stream",
          "name": "stdout",
          "text": [
            "Enter your age: -8\n",
            "Age cannot be negative\n",
            "Enter your age: -7\n",
            "Age cannot be negative\n",
            "Enter your age: -1000000\n",
            "Age cannot be negative\n",
            "Enter your age: 23\n",
            "You are 23 years old\n"
          ]
        }
      ]
    },
    {
      "cell_type": "code",
      "source": [
        "food = input(\"Enter a food you like (q to quit): \")\n",
        "\n",
        "while not food == \"q\":\n",
        "  print(f\"You like {food}\")\n",
        "  food = input(\"Enter another food you like (q to quit): \")\n",
        "\n",
        "print(\"Bye\")"
      ],
      "metadata": {
        "colab": {
          "base_uri": "https://localhost:8080/"
        },
        "id": "ySvcFahiEjHR",
        "outputId": "80ff5054-bbc5-42c3-af45-c9f1fb059974"
      },
      "execution_count": null,
      "outputs": [
        {
          "output_type": "stream",
          "name": "stdout",
          "text": [
            "Enter a food you like (q to quit): pizza\n",
            "You like pizza\n",
            "Enter another food you like (q to quit): hambergur\n",
            "You like hambergur\n",
            "Enter another food you like (q to quit): sushi\n",
            "You like sushi\n",
            "Enter another food you like (q to quit): q\n",
            "Bye\n"
          ]
        }
      ]
    },
    {
      "cell_type": "code",
      "source": [
        "num = int(input(\"Enter a # between 1 -10: \"))\n",
        "\n",
        "while num <1 or num >10:\n",
        "  print(f\"{num} is not valid\")\n",
        "  num = int(input(\"Enter a # between 1 -10: \"))\n",
        "\n",
        "print(f\"Your number is {num}\")"
      ],
      "metadata": {
        "colab": {
          "base_uri": "https://localhost:8080/"
        },
        "id": "4caX9cgMFSUY",
        "outputId": "1bb3819d-23af-4055-df24-e75583b2c6b8"
      },
      "execution_count": null,
      "outputs": [
        {
          "output_type": "stream",
          "name": "stdout",
          "text": [
            "Enter a # between 1 -10: 0\n",
            "0 is not valid\n",
            "Enter a # between 1 -10: -10\n",
            "-10 is not valid\n",
            "Enter a # between 1 -10: 5\n",
            "Your number is 5\n"
          ]
        }
      ]
    },
    {
      "cell_type": "markdown",
      "source": [
        "# Function\n",
        " = A block of reusable code\n",
        "   place () after the fucntion name to invoke it **굵은 텍스트**"
      ],
      "metadata": {
        "id": "_vs1m6NrGUtE"
      }
    },
    {
      "cell_type": "code",
      "source": [
        "print(\"Happy birthday to you!\")\n",
        "print(\"You are old!\")\n",
        "print(\"Happy birthday to you!\")\n",
        "print()\n",
        "\n",
        "print(\"Happy birthday to you!\")\n",
        "print(\"You are old!\")\n",
        "print(\"Happy birthday to you!\")\n",
        "print()\n",
        "\n",
        "print(\"Happy birthday to you!\")\n",
        "print(\"You are old!\")\n",
        "print(\"Happy birthday to you!\")\n",
        "print()"
      ],
      "metadata": {
        "colab": {
          "base_uri": "https://localhost:8080/"
        },
        "id": "mQuIjb53Gh9W",
        "outputId": "160f706a-3cce-4a89-e09a-e721235ba95a"
      },
      "execution_count": null,
      "outputs": [
        {
          "output_type": "stream",
          "name": "stdout",
          "text": [
            "Happy birthday to you!\n",
            "You are old!\n",
            "Happy birthday to you!\n",
            "\n",
            "Happy birthday to you!\n",
            "You are old!\n",
            "Happy birthday to you!\n",
            "\n",
            "Happy birthday to you!\n",
            "You are old!\n",
            "Happy birthday to you!\n",
            "\n"
          ]
        }
      ]
    },
    {
      "cell_type": "code",
      "source": [
        "def happy_birthday():\n",
        "\n",
        "  print(\"Happy birthday to you!\")\n",
        "  print(\"You are old!\")\n",
        "  print(\"Happy birthday to you!\")\n",
        "  print()\n",
        "\n",
        "\n",
        "happy_birthday()"
      ],
      "metadata": {
        "colab": {
          "base_uri": "https://localhost:8080/"
        },
        "id": "Y64YsiiWG49A",
        "outputId": "1335b041-98ec-43dc-9b17-b7eba45a6df7"
      },
      "execution_count": null,
      "outputs": [
        {
          "output_type": "stream",
          "name": "stdout",
          "text": [
            "Happy birthday to you!\n",
            "You are old!\n",
            "Happy birthday to you!\n",
            "\n"
          ]
        }
      ]
    },
    {
      "cell_type": "code",
      "source": [
        "happy_birthday()\n",
        "happy_birthday()\n",
        "happy_birthday()"
      ],
      "metadata": {
        "colab": {
          "base_uri": "https://localhost:8080/"
        },
        "id": "y2btit3BHLr3",
        "outputId": "ff0fa6b6-4021-4a00-db01-19a1cda6511a"
      },
      "execution_count": null,
      "outputs": [
        {
          "output_type": "stream",
          "name": "stdout",
          "text": [
            "Happy birthday to you!\n",
            "You are old!\n",
            "Happy birthday to you!\n",
            "\n",
            "Happy birthday to you!\n",
            "You are old!\n",
            "Happy birthday to you!\n",
            "\n",
            "Happy birthday to you!\n",
            "You are old!\n",
            "Happy birthday to you!\n",
            "\n"
          ]
        }
      ]
    },
    {
      "cell_type": "code",
      "source": [
        "def happy_birthday(name):\n",
        "\n",
        "  print(f\"Happy birthday to {name}!\")\n",
        "  print(\"You are old!\")\n",
        "  print(\"Happy birthday to you!\")\n",
        "  print()\n",
        "\n",
        "\n",
        "happy_birthday(\"Bro\")\n",
        "happy_birthday(\"Steve\")\n",
        "happy_birthday(\"Joe\")"
      ],
      "metadata": {
        "colab": {
          "base_uri": "https://localhost:8080/"
        },
        "id": "061mlW4YHXMs",
        "outputId": "1b482e1c-2dbc-448d-c0dc-0b7e3c27706b"
      },
      "execution_count": null,
      "outputs": [
        {
          "output_type": "stream",
          "name": "stdout",
          "text": [
            "Happy birthday to Bro!\n",
            "You are old!\n",
            "Happy birthday to you!\n",
            "\n",
            "Happy birthday to Steve!\n",
            "You are old!\n",
            "Happy birthday to you!\n",
            "\n",
            "Happy birthday to Joe!\n",
            "You are old!\n",
            "Happy birthday to you!\n",
            "\n"
          ]
        }
      ]
    },
    {
      "cell_type": "code",
      "source": [
        "def happy_birthday(name, age):\n",
        "\n",
        "  print(f\"Happy birthday to {name}!\")\n",
        "  print(f\"You are {age} years old!\")\n",
        "  print(\"Happy birthday to you!\")\n",
        "  print()\n",
        "\n",
        "\n",
        "happy_birthday(\"Bro\", 20)\n",
        "happy_birthday(\"Steve\", 35)\n",
        "happy_birthday(\"Joe\", 100)"
      ],
      "metadata": {
        "colab": {
          "base_uri": "https://localhost:8080/"
        },
        "id": "H1htzIAhHe0U",
        "outputId": "6b900621-9367-4dad-da9b-151d4982b149"
      },
      "execution_count": null,
      "outputs": [
        {
          "output_type": "stream",
          "name": "stdout",
          "text": [
            "Happy birthday to Bro!\n",
            "You are 20 years old!\n",
            "Happy birthday to you!\n",
            "\n",
            "Happy birthday to Steve!\n",
            "You are 35 years old!\n",
            "Happy birthday to you!\n",
            "\n",
            "Happy birthday to Joe!\n",
            "You are 100 years old!\n",
            "Happy birthday to you!\n",
            "\n"
          ]
        }
      ]
    },
    {
      "cell_type": "code",
      "source": [
        "def happy_birthday(age, name):\n",
        "\n",
        "  print(f\"Happy birthday to {name}!\")\n",
        "  print(f\"You are {age} years old!\")\n",
        "  print(\"Happy birthday to you!\")\n",
        "  print()\n",
        "\n",
        "\n",
        "happy_birthday(\"Bro\", 20)\n",
        "happy_birthday(\"Steve\", 35)\n",
        "happy_birthday(\"Joe\", 100)"
      ],
      "metadata": {
        "colab": {
          "base_uri": "https://localhost:8080/"
        },
        "id": "7qtuHGggIo0o",
        "outputId": "d9b0c70b-2a35-42fc-8720-8e9e5886954d"
      },
      "execution_count": null,
      "outputs": [
        {
          "output_type": "stream",
          "name": "stdout",
          "text": [
            "Happy birthday to 20!\n",
            "You are Bro years old!\n",
            "Happy birthday to you!\n",
            "\n",
            "Happy birthday to 35!\n",
            "You are Steve years old!\n",
            "Happy birthday to you!\n",
            "\n",
            "Happy birthday to 100!\n",
            "You are Joe years old!\n",
            "Happy birthday to you!\n",
            "\n"
          ]
        }
      ]
    },
    {
      "cell_type": "code",
      "source": [
        "def happy_birthday(x, y):\n",
        "\n",
        "  print(f\"Happy birthday to {x}!\")\n",
        "  print(f\"You are {y} years old!\")\n",
        "  print(\"Happy birthday to you!\")\n",
        "  print()\n",
        "\n",
        "\n",
        "happy_birthday(\"Bro\", 20)\n",
        "happy_birthday(\"Steve\", 35)\n",
        "happy_birthday(\"Joe\", 100)"
      ],
      "metadata": {
        "colab": {
          "base_uri": "https://localhost:8080/"
        },
        "id": "DtZkhj8LI3fz",
        "outputId": "a972c51e-6773-42ad-fb8e-ffcd9afd55c8"
      },
      "execution_count": null,
      "outputs": [
        {
          "output_type": "stream",
          "name": "stdout",
          "text": [
            "Happy birthday to Bro!\n",
            "You are 20 years old!\n",
            "Happy birthday to you!\n",
            "\n",
            "Happy birthday to Steve!\n",
            "You are 35 years old!\n",
            "Happy birthday to you!\n",
            "\n",
            "Happy birthday to Joe!\n",
            "You are 100 years old!\n",
            "Happy birthday to you!\n",
            "\n"
          ]
        }
      ]
    },
    {
      "cell_type": "code",
      "source": [
        "def display_invoice(username, amount, due_date):\n",
        "  print(f\"Hello {username}\")\n",
        "  print(f\"Your bill of {amount:.2f} is due: {due_date}\")\n",
        "\n",
        "display_invoice(\"Brocode\", 42.50, \"01/01\")\n"
      ],
      "metadata": {
        "id": "XhIIfhYaI-sH",
        "outputId": "2726c7d9-8823-44cf-d459-cef66f08f138",
        "colab": {
          "base_uri": "https://localhost:8080/"
        }
      },
      "execution_count": null,
      "outputs": [
        {
          "output_type": "stream",
          "name": "stdout",
          "text": [
            "Hello Brocode\n",
            "Your bill of 42.50 is due: 01/01\n"
          ]
        }
      ]
    },
    {
      "cell_type": "markdown",
      "source": [
        "# return\n",
        "\n",
        "= statement used to end a function\n",
        "  and send a result back to the caller **굵은 텍스트**"
      ],
      "metadata": {
        "id": "y6rEmarYtg6O"
      }
    },
    {
      "cell_type": "code",
      "source": [
        "def add(x, y):\n",
        "  z = x + y\n",
        "  return(z)\n",
        "\n",
        "def subtract(x, y):\n",
        "  z = x - y\n",
        "  return(z)\n",
        "\n",
        "def multiply(x, y):\n",
        "  z = x * y\n",
        "  return(z)\n",
        "\n",
        "def divide(x, y):\n",
        "  z = x / y\n",
        "  return(z)\n",
        "\n",
        "print(add(1,2))\n",
        "print(subtract(1,2))\n",
        "print(multiply(1,2))\n",
        "print(divide(1,2))\n"
      ],
      "metadata": {
        "id": "q_srUkWrtsHL",
        "outputId": "708aeaa1-0e32-4e6b-d959-7dc0f6eacba9",
        "colab": {
          "base_uri": "https://localhost:8080/"
        }
      },
      "execution_count": null,
      "outputs": [
        {
          "output_type": "stream",
          "name": "stdout",
          "text": [
            "3\n",
            "-1\n",
            "2\n",
            "0.5\n"
          ]
        }
      ]
    },
    {
      "cell_type": "code",
      "source": [
        "def create_name(first, last):\n",
        "  first = first.capitalize()\n",
        "  last = last.capitalize()\n",
        "  return first + \"\" + last\n",
        "\n",
        "full_name = create_name(\"bro\", \"code\")\n",
        "\n",
        "print(full_name)"
      ],
      "metadata": {
        "id": "-Q75e76Euntd",
        "outputId": "a65a8b2e-976e-4324-8a0c-54651e850329",
        "colab": {
          "base_uri": "https://localhost:8080/"
        }
      },
      "execution_count": null,
      "outputs": [
        {
          "output_type": "stream",
          "name": "stdout",
          "text": [
            "BroCode\n"
          ]
        }
      ]
    },
    {
      "cell_type": "markdown",
      "source": [
        "**for loops ** = execute a block of code a fixed number of times.\n",
        "\n",
        "           **        You can iterate over a range, string, sequence, etc.**"
      ],
      "metadata": {
        "id": "rgGBbvT6XNSo"
      }
    },
    {
      "cell_type": "code",
      "source": [
        "for x in range(1, 11):\n",
        "  print(x)"
      ],
      "metadata": {
        "id": "H8k8_bHpvV-a",
        "outputId": "35b55cae-e799-4be8-8492-7ed7de599681",
        "colab": {
          "base_uri": "https://localhost:8080/"
        }
      },
      "execution_count": 1,
      "outputs": [
        {
          "output_type": "stream",
          "name": "stdout",
          "text": [
            "1\n",
            "2\n",
            "3\n",
            "4\n",
            "5\n",
            "6\n",
            "7\n",
            "8\n",
            "9\n",
            "10\n"
          ]
        }
      ]
    },
    {
      "cell_type": "code",
      "source": [
        "for x in reversed(range(1, 11)):\n",
        "  print(x)\n",
        "\n",
        "print(\"HAPPY NEW YEAR!\")"
      ],
      "metadata": {
        "id": "MZ77-GPBZB5u",
        "outputId": "b7b5f71d-cd60-48b6-d8c7-4c78dd7fcb67",
        "colab": {
          "base_uri": "https://localhost:8080/"
        }
      },
      "execution_count": 3,
      "outputs": [
        {
          "output_type": "stream",
          "name": "stdout",
          "text": [
            "10\n",
            "9\n",
            "8\n",
            "7\n",
            "6\n",
            "5\n",
            "4\n",
            "3\n",
            "2\n",
            "1\n",
            "HAPPY NEW YEAR!\n"
          ]
        }
      ]
    },
    {
      "cell_type": "code",
      "source": [
        "for x in range(1, 11, 2):\n",
        "  print(x)"
      ],
      "metadata": {
        "id": "sPv6jHHOZVpa",
        "outputId": "8d815e9b-4c83-4066-9303-614c4347119a",
        "colab": {
          "base_uri": "https://localhost:8080/"
        }
      },
      "execution_count": 4,
      "outputs": [
        {
          "output_type": "stream",
          "name": "stdout",
          "text": [
            "1\n",
            "3\n",
            "5\n",
            "7\n",
            "9\n"
          ]
        }
      ]
    },
    {
      "cell_type": "code",
      "source": [
        "for x in range(1, 11, 3):\n",
        "  print(x)"
      ],
      "metadata": {
        "id": "hRHW--t0Zhz5",
        "outputId": "bee1780a-f496-4ec1-cfd0-c73184bec0b3",
        "colab": {
          "base_uri": "https://localhost:8080/"
        }
      },
      "execution_count": 5,
      "outputs": [
        {
          "output_type": "stream",
          "name": "stdout",
          "text": [
            "1\n",
            "4\n",
            "7\n",
            "10\n"
          ]
        }
      ]
    },
    {
      "cell_type": "code",
      "source": [
        "credit_card = \"1234-5678-9012-3456\"\n",
        "\n",
        "for x in credit_card:\n",
        "  print(x)"
      ],
      "metadata": {
        "id": "wKnrf069Zlxc",
        "outputId": "533489fd-8782-47a3-9c16-be7fa0e5682b",
        "colab": {
          "base_uri": "https://localhost:8080/"
        }
      },
      "execution_count": 6,
      "outputs": [
        {
          "output_type": "stream",
          "name": "stdout",
          "text": [
            "1\n",
            "2\n",
            "3\n",
            "4\n",
            "-\n",
            "5\n",
            "6\n",
            "7\n",
            "8\n",
            "-\n",
            "9\n",
            "0\n",
            "1\n",
            "2\n",
            "-\n",
            "3\n",
            "4\n",
            "5\n",
            "6\n"
          ]
        }
      ]
    },
    {
      "cell_type": "code",
      "source": [
        "for x in range(1, 21):\n",
        "  if x == 13:\n",
        "    continue\n",
        "  else:\n",
        "    print(x)"
      ],
      "metadata": {
        "id": "shmpk2BaZztR",
        "outputId": "d849c791-d00b-4d5a-d1fd-e404a8a39ab6",
        "colab": {
          "base_uri": "https://localhost:8080/"
        }
      },
      "execution_count": 7,
      "outputs": [
        {
          "output_type": "stream",
          "name": "stdout",
          "text": [
            "1\n",
            "2\n",
            "3\n",
            "4\n",
            "5\n",
            "6\n",
            "7\n",
            "8\n",
            "9\n",
            "10\n",
            "11\n",
            "12\n",
            "14\n",
            "15\n",
            "16\n",
            "17\n",
            "18\n",
            "19\n",
            "20\n"
          ]
        }
      ]
    },
    {
      "cell_type": "code",
      "source": [
        "for x in range(1, 21):\n",
        "  if x == 13:\n",
        "    break\n",
        "  else:\n",
        "    print(x)"
      ],
      "metadata": {
        "id": "iKOXxiIBaJOo",
        "outputId": "330ace21-d431-45cf-da84-9915e497600e",
        "colab": {
          "base_uri": "https://localhost:8080/"
        }
      },
      "execution_count": 8,
      "outputs": [
        {
          "output_type": "stream",
          "name": "stdout",
          "text": [
            "1\n",
            "2\n",
            "3\n",
            "4\n",
            "5\n",
            "6\n",
            "7\n",
            "8\n",
            "9\n",
            "10\n",
            "11\n",
            "12\n"
          ]
        }
      ]
    },
    {
      "cell_type": "code",
      "source": [],
      "metadata": {
        "id": "dzWidtVMaQi4"
      },
      "execution_count": null,
      "outputs": []
    }
  ]
}