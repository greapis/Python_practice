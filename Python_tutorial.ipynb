{
  "nbformat": 4,
  "nbformat_minor": 0,
  "metadata": {
    "colab": {
      "provenance": [],
      "authorship_tag": "ABX9TyPtBOXr93GVHb96JIXQpJnk",
      "include_colab_link": true
    },
    "kernelspec": {
      "name": "python3",
      "display_name": "Python 3"
    },
    "language_info": {
      "name": "python"
    }
  },
  "cells": [
    {
      "cell_type": "markdown",
      "metadata": {
        "id": "view-in-github",
        "colab_type": "text"
      },
      "source": [
        "<a href=\"https://colab.research.google.com/github/greapis/Python_practice/blob/main/Python_tutorial.ipynb\" target=\"_parent\"><img src=\"https://colab.research.google.com/assets/colab-badge.svg\" alt=\"Open In Colab\"/></a>"
      ]
    },
    {
      "cell_type": "markdown",
      "source": [
        "## \"Whiel loop\"\n",
        "= execute come code WHILE some condition remains true **굵은 텍스트**"
      ],
      "metadata": {
        "id": "Dtci0odKCfR0"
      }
    },
    {
      "cell_type": "code",
      "source": [
        "while name ==\"\":\n",
        "  print(\"You did not enter your name\")\n",
        "  name  = input(\"Enter your name: \")\n",
        "\n",
        "print(f\"Hello {name}\")\n"
      ],
      "metadata": {
        "colab": {
          "base_uri": "https://localhost:8080/"
        },
        "id": "5RFLADR2DZVb",
        "outputId": "596d94af-1e47-4ce7-f68d-5951201ee524"
      },
      "execution_count": null,
      "outputs": [
        {
          "output_type": "stream",
          "name": "stdout",
          "text": [
            "Hello Jaeh\n"
          ]
        }
      ]
    },
    {
      "cell_type": "code",
      "source": [
        "while name ==\"\":\n",
        "  print(\"You did not enter your name\")\n",
        "\n",
        "print(f\"Hello {name}\")\n"
      ],
      "metadata": {
        "colab": {
          "base_uri": "https://localhost:8080/"
        },
        "id": "b0fopxD9DoOj",
        "outputId": "00a24819-2517-457d-e187-498895b2b601"
      },
      "execution_count": null,
      "outputs": [
        {
          "output_type": "stream",
          "name": "stdout",
          "text": [
            "Hello Jaeh\n"
          ]
        }
      ]
    },
    {
      "cell_type": "code",
      "source": [
        "name = input(\"Enter your name: \")\n",
        "\n",
        "if name == \"\":\n",
        "  print(\"You did not enter your name\")\n",
        "else:\n",
        "  print(f\"Hello {name}\")"
      ],
      "metadata": {
        "colab": {
          "base_uri": "https://localhost:8080/"
        },
        "id": "Rw2PynDeD_KC",
        "outputId": "f71e1e48-a9c1-4e66-9743-12e1b2b0d49b"
      },
      "execution_count": null,
      "outputs": [
        {
          "output_type": "stream",
          "name": "stdout",
          "text": [
            "Enter your name: shim\n",
            "Hello shim\n"
          ]
        }
      ]
    },
    {
      "cell_type": "code",
      "source": [
        "age = int(input(\"Enter your age: \"))\n",
        "\n",
        "while age < 0:\n",
        "  print(\"Age cannot be negative\")\n",
        "  age = int(input(\"Enter your age: \"))\n",
        "\n",
        "print(f\"You are {age} years old\")"
      ],
      "metadata": {
        "colab": {
          "base_uri": "https://localhost:8080/"
        },
        "id": "6vErsP-WEP3n",
        "outputId": "930b0162-c20f-4034-c2f0-179883b86b35"
      },
      "execution_count": null,
      "outputs": [
        {
          "output_type": "stream",
          "name": "stdout",
          "text": [
            "Enter your age: -8\n",
            "Age cannot be negative\n",
            "Enter your age: -7\n",
            "Age cannot be negative\n",
            "Enter your age: -1000000\n",
            "Age cannot be negative\n",
            "Enter your age: 23\n",
            "You are 23 years old\n"
          ]
        }
      ]
    },
    {
      "cell_type": "code",
      "source": [
        "food = input(\"Enter a food you like (q to quit): \")\n",
        "\n",
        "while not food == \"q\":\n",
        "  print(f\"You like {food}\")\n",
        "  food = input(\"Enter another food you like (q to quit): \")\n",
        "\n",
        "print(\"Bye\")"
      ],
      "metadata": {
        "colab": {
          "base_uri": "https://localhost:8080/"
        },
        "id": "ySvcFahiEjHR",
        "outputId": "80ff5054-bbc5-42c3-af45-c9f1fb059974"
      },
      "execution_count": null,
      "outputs": [
        {
          "output_type": "stream",
          "name": "stdout",
          "text": [
            "Enter a food you like (q to quit): pizza\n",
            "You like pizza\n",
            "Enter another food you like (q to quit): hambergur\n",
            "You like hambergur\n",
            "Enter another food you like (q to quit): sushi\n",
            "You like sushi\n",
            "Enter another food you like (q to quit): q\n",
            "Bye\n"
          ]
        }
      ]
    },
    {
      "cell_type": "code",
      "source": [
        "num = int(input(\"Enter a # between 1 -10: \"))\n",
        "\n",
        "while num <1 or num >10:\n",
        "  print(f\"{num} is not valid\")\n",
        "  num = int(input(\"Enter a # between 1 -10: \"))\n",
        "\n",
        "print(f\"Your number is {num}\")"
      ],
      "metadata": {
        "colab": {
          "base_uri": "https://localhost:8080/"
        },
        "id": "4caX9cgMFSUY",
        "outputId": "1bb3819d-23af-4055-df24-e75583b2c6b8"
      },
      "execution_count": null,
      "outputs": [
        {
          "output_type": "stream",
          "name": "stdout",
          "text": [
            "Enter a # between 1 -10: 0\n",
            "0 is not valid\n",
            "Enter a # between 1 -10: -10\n",
            "-10 is not valid\n",
            "Enter a # between 1 -10: 5\n",
            "Your number is 5\n"
          ]
        }
      ]
    },
    {
      "cell_type": "markdown",
      "source": [
        "# Function\n",
        " = A block of reusable code\n",
        "   place () after the fucntion name to invoke it **굵은 텍스트**"
      ],
      "metadata": {
        "id": "_vs1m6NrGUtE"
      }
    },
    {
      "cell_type": "code",
      "source": [
        "print(\"Happy birthday to you!\")\n",
        "print(\"You are old!\")\n",
        "print(\"Happy birthday to you!\")\n",
        "print()\n",
        "\n",
        "print(\"Happy birthday to you!\")\n",
        "print(\"You are old!\")\n",
        "print(\"Happy birthday to you!\")\n",
        "print()\n",
        "\n",
        "print(\"Happy birthday to you!\")\n",
        "print(\"You are old!\")\n",
        "print(\"Happy birthday to you!\")\n",
        "print()"
      ],
      "metadata": {
        "colab": {
          "base_uri": "https://localhost:8080/"
        },
        "id": "mQuIjb53Gh9W",
        "outputId": "160f706a-3cce-4a89-e09a-e721235ba95a"
      },
      "execution_count": null,
      "outputs": [
        {
          "output_type": "stream",
          "name": "stdout",
          "text": [
            "Happy birthday to you!\n",
            "You are old!\n",
            "Happy birthday to you!\n",
            "\n",
            "Happy birthday to you!\n",
            "You are old!\n",
            "Happy birthday to you!\n",
            "\n",
            "Happy birthday to you!\n",
            "You are old!\n",
            "Happy birthday to you!\n",
            "\n"
          ]
        }
      ]
    },
    {
      "cell_type": "code",
      "source": [
        "def happy_birthday():\n",
        "\n",
        "  print(\"Happy birthday to you!\")\n",
        "  print(\"You are old!\")\n",
        "  print(\"Happy birthday to you!\")\n",
        "  print()\n",
        "\n",
        "\n",
        "happy_birthday()"
      ],
      "metadata": {
        "colab": {
          "base_uri": "https://localhost:8080/"
        },
        "id": "Y64YsiiWG49A",
        "outputId": "1335b041-98ec-43dc-9b17-b7eba45a6df7"
      },
      "execution_count": null,
      "outputs": [
        {
          "output_type": "stream",
          "name": "stdout",
          "text": [
            "Happy birthday to you!\n",
            "You are old!\n",
            "Happy birthday to you!\n",
            "\n"
          ]
        }
      ]
    },
    {
      "cell_type": "code",
      "source": [
        "happy_birthday()\n",
        "happy_birthday()\n",
        "happy_birthday()"
      ],
      "metadata": {
        "colab": {
          "base_uri": "https://localhost:8080/"
        },
        "id": "y2btit3BHLr3",
        "outputId": "ff0fa6b6-4021-4a00-db01-19a1cda6511a"
      },
      "execution_count": null,
      "outputs": [
        {
          "output_type": "stream",
          "name": "stdout",
          "text": [
            "Happy birthday to you!\n",
            "You are old!\n",
            "Happy birthday to you!\n",
            "\n",
            "Happy birthday to you!\n",
            "You are old!\n",
            "Happy birthday to you!\n",
            "\n",
            "Happy birthday to you!\n",
            "You are old!\n",
            "Happy birthday to you!\n",
            "\n"
          ]
        }
      ]
    },
    {
      "cell_type": "code",
      "source": [
        "def happy_birthday(name):\n",
        "\n",
        "  print(f\"Happy birthday to {name}!\")\n",
        "  print(\"You are old!\")\n",
        "  print(\"Happy birthday to you!\")\n",
        "  print()\n",
        "\n",
        "\n",
        "happy_birthday(\"Bro\")\n",
        "happy_birthday(\"Steve\")\n",
        "happy_birthday(\"Joe\")"
      ],
      "metadata": {
        "colab": {
          "base_uri": "https://localhost:8080/"
        },
        "id": "061mlW4YHXMs",
        "outputId": "1b482e1c-2dbc-448d-c0dc-0b7e3c27706b"
      },
      "execution_count": null,
      "outputs": [
        {
          "output_type": "stream",
          "name": "stdout",
          "text": [
            "Happy birthday to Bro!\n",
            "You are old!\n",
            "Happy birthday to you!\n",
            "\n",
            "Happy birthday to Steve!\n",
            "You are old!\n",
            "Happy birthday to you!\n",
            "\n",
            "Happy birthday to Joe!\n",
            "You are old!\n",
            "Happy birthday to you!\n",
            "\n"
          ]
        }
      ]
    },
    {
      "cell_type": "code",
      "source": [
        "def happy_birthday(name, age):\n",
        "\n",
        "  print(f\"Happy birthday to {name}!\")\n",
        "  print(f\"You are {age} years old!\")\n",
        "  print(\"Happy birthday to you!\")\n",
        "  print()\n",
        "\n",
        "\n",
        "happy_birthday(\"Bro\", 20)\n",
        "happy_birthday(\"Steve\", 35)\n",
        "happy_birthday(\"Joe\", 100)"
      ],
      "metadata": {
        "colab": {
          "base_uri": "https://localhost:8080/"
        },
        "id": "H1htzIAhHe0U",
        "outputId": "6b900621-9367-4dad-da9b-151d4982b149"
      },
      "execution_count": null,
      "outputs": [
        {
          "output_type": "stream",
          "name": "stdout",
          "text": [
            "Happy birthday to Bro!\n",
            "You are 20 years old!\n",
            "Happy birthday to you!\n",
            "\n",
            "Happy birthday to Steve!\n",
            "You are 35 years old!\n",
            "Happy birthday to you!\n",
            "\n",
            "Happy birthday to Joe!\n",
            "You are 100 years old!\n",
            "Happy birthday to you!\n",
            "\n"
          ]
        }
      ]
    },
    {
      "cell_type": "code",
      "source": [
        "def happy_birthday(age, name):\n",
        "\n",
        "  print(f\"Happy birthday to {name}!\")\n",
        "  print(f\"You are {age} years old!\")\n",
        "  print(\"Happy birthday to you!\")\n",
        "  print()\n",
        "\n",
        "\n",
        "happy_birthday(\"Bro\", 20)\n",
        "happy_birthday(\"Steve\", 35)\n",
        "happy_birthday(\"Joe\", 100)"
      ],
      "metadata": {
        "colab": {
          "base_uri": "https://localhost:8080/"
        },
        "id": "7qtuHGggIo0o",
        "outputId": "d9b0c70b-2a35-42fc-8720-8e9e5886954d"
      },
      "execution_count": null,
      "outputs": [
        {
          "output_type": "stream",
          "name": "stdout",
          "text": [
            "Happy birthday to 20!\n",
            "You are Bro years old!\n",
            "Happy birthday to you!\n",
            "\n",
            "Happy birthday to 35!\n",
            "You are Steve years old!\n",
            "Happy birthday to you!\n",
            "\n",
            "Happy birthday to 100!\n",
            "You are Joe years old!\n",
            "Happy birthday to you!\n",
            "\n"
          ]
        }
      ]
    },
    {
      "cell_type": "code",
      "source": [
        "def happy_birthday(x, y):\n",
        "\n",
        "  print(f\"Happy birthday to {x}!\")\n",
        "  print(f\"You are {y} years old!\")\n",
        "  print(\"Happy birthday to you!\")\n",
        "  print()\n",
        "\n",
        "\n",
        "happy_birthday(\"Bro\", 20)\n",
        "happy_birthday(\"Steve\", 35)\n",
        "happy_birthday(\"Joe\", 100)"
      ],
      "metadata": {
        "colab": {
          "base_uri": "https://localhost:8080/"
        },
        "id": "DtZkhj8LI3fz",
        "outputId": "a972c51e-6773-42ad-fb8e-ffcd9afd55c8"
      },
      "execution_count": null,
      "outputs": [
        {
          "output_type": "stream",
          "name": "stdout",
          "text": [
            "Happy birthday to Bro!\n",
            "You are 20 years old!\n",
            "Happy birthday to you!\n",
            "\n",
            "Happy birthday to Steve!\n",
            "You are 35 years old!\n",
            "Happy birthday to you!\n",
            "\n",
            "Happy birthday to Joe!\n",
            "You are 100 years old!\n",
            "Happy birthday to you!\n",
            "\n"
          ]
        }
      ]
    },
    {
      "cell_type": "code",
      "source": [
        "def display_invoice(username, amount, due_date):\n",
        "  print(f\"Hello {username}\")\n",
        "  print(f\"Your bill of {amount:.2f} is due: {due_date}\")\n",
        "\n",
        "display_invoice(\"Brocode\", 42.50, \"01/01\")\n"
      ],
      "metadata": {
        "id": "XhIIfhYaI-sH",
        "outputId": "2726c7d9-8823-44cf-d459-cef66f08f138",
        "colab": {
          "base_uri": "https://localhost:8080/"
        }
      },
      "execution_count": null,
      "outputs": [
        {
          "output_type": "stream",
          "name": "stdout",
          "text": [
            "Hello Brocode\n",
            "Your bill of 42.50 is due: 01/01\n"
          ]
        }
      ]
    },
    {
      "cell_type": "markdown",
      "source": [
        "# return\n",
        "\n",
        "= statement used to end a function\n",
        "  and send a result back to the caller **굵은 텍스트**"
      ],
      "metadata": {
        "id": "y6rEmarYtg6O"
      }
    },
    {
      "cell_type": "code",
      "source": [
        "def add(x, y):\n",
        "  z = x + y\n",
        "  return(z)\n",
        "\n",
        "def subtract(x, y):\n",
        "  z = x - y\n",
        "  return(z)\n",
        "\n",
        "def multiply(x, y):\n",
        "  z = x * y\n",
        "  return(z)\n",
        "\n",
        "def divide(x, y):\n",
        "  z = x / y\n",
        "  return(z)\n",
        "\n",
        "print(add(1,2))\n",
        "print(subtract(1,2))\n",
        "print(multiply(1,2))\n",
        "print(divide(1,2))\n"
      ],
      "metadata": {
        "id": "q_srUkWrtsHL",
        "outputId": "708aeaa1-0e32-4e6b-d959-7dc0f6eacba9",
        "colab": {
          "base_uri": "https://localhost:8080/"
        }
      },
      "execution_count": null,
      "outputs": [
        {
          "output_type": "stream",
          "name": "stdout",
          "text": [
            "3\n",
            "-1\n",
            "2\n",
            "0.5\n"
          ]
        }
      ]
    },
    {
      "cell_type": "code",
      "source": [
        "def create_name(first, last):\n",
        "  first = first.capitalize()\n",
        "  last = last.capitalize()\n",
        "  return first + \"\" + last\n",
        "\n",
        "full_name = create_name(\"bro\", \"code\")\n",
        "\n",
        "print(full_name)"
      ],
      "metadata": {
        "id": "-Q75e76Euntd",
        "outputId": "a65a8b2e-976e-4324-8a0c-54651e850329",
        "colab": {
          "base_uri": "https://localhost:8080/"
        }
      },
      "execution_count": null,
      "outputs": [
        {
          "output_type": "stream",
          "name": "stdout",
          "text": [
            "BroCode\n"
          ]
        }
      ]
    },
    {
      "cell_type": "markdown",
      "source": [
        "**for loops ** = execute a block of code a fixed number of times.\n",
        "\n",
        "           **        You can iterate over a range, string, sequence, etc.**"
      ],
      "metadata": {
        "id": "rgGBbvT6XNSo"
      }
    },
    {
      "cell_type": "code",
      "source": [
        "for x in range(1, 11):\n",
        "  print(x)"
      ],
      "metadata": {
        "id": "H8k8_bHpvV-a",
        "outputId": "35b55cae-e799-4be8-8492-7ed7de599681",
        "colab": {
          "base_uri": "https://localhost:8080/"
        }
      },
      "execution_count": null,
      "outputs": [
        {
          "output_type": "stream",
          "name": "stdout",
          "text": [
            "1\n",
            "2\n",
            "3\n",
            "4\n",
            "5\n",
            "6\n",
            "7\n",
            "8\n",
            "9\n",
            "10\n"
          ]
        }
      ]
    },
    {
      "cell_type": "code",
      "source": [
        "for x in reversed(range(1, 11)):\n",
        "  print(x)\n",
        "\n",
        "print(\"HAPPY NEW YEAR!\")"
      ],
      "metadata": {
        "id": "MZ77-GPBZB5u",
        "outputId": "b7b5f71d-cd60-48b6-d8c7-4c78dd7fcb67",
        "colab": {
          "base_uri": "https://localhost:8080/"
        }
      },
      "execution_count": null,
      "outputs": [
        {
          "output_type": "stream",
          "name": "stdout",
          "text": [
            "10\n",
            "9\n",
            "8\n",
            "7\n",
            "6\n",
            "5\n",
            "4\n",
            "3\n",
            "2\n",
            "1\n",
            "HAPPY NEW YEAR!\n"
          ]
        }
      ]
    },
    {
      "cell_type": "code",
      "source": [
        "for x in range(1, 11, 2):\n",
        "  print(x)"
      ],
      "metadata": {
        "id": "sPv6jHHOZVpa",
        "outputId": "8d815e9b-4c83-4066-9303-614c4347119a",
        "colab": {
          "base_uri": "https://localhost:8080/"
        }
      },
      "execution_count": null,
      "outputs": [
        {
          "output_type": "stream",
          "name": "stdout",
          "text": [
            "1\n",
            "3\n",
            "5\n",
            "7\n",
            "9\n"
          ]
        }
      ]
    },
    {
      "cell_type": "code",
      "source": [
        "for x in range(1, 11, 3):\n",
        "  print(x)"
      ],
      "metadata": {
        "id": "hRHW--t0Zhz5",
        "outputId": "bee1780a-f496-4ec1-cfd0-c73184bec0b3",
        "colab": {
          "base_uri": "https://localhost:8080/"
        }
      },
      "execution_count": null,
      "outputs": [
        {
          "output_type": "stream",
          "name": "stdout",
          "text": [
            "1\n",
            "4\n",
            "7\n",
            "10\n"
          ]
        }
      ]
    },
    {
      "cell_type": "code",
      "source": [
        "credit_card = \"1234-5678-9012-3456\"\n",
        "\n",
        "for x in credit_card:\n",
        "  print(x)"
      ],
      "metadata": {
        "id": "wKnrf069Zlxc",
        "outputId": "533489fd-8782-47a3-9c16-be7fa0e5682b",
        "colab": {
          "base_uri": "https://localhost:8080/"
        }
      },
      "execution_count": null,
      "outputs": [
        {
          "output_type": "stream",
          "name": "stdout",
          "text": [
            "1\n",
            "2\n",
            "3\n",
            "4\n",
            "-\n",
            "5\n",
            "6\n",
            "7\n",
            "8\n",
            "-\n",
            "9\n",
            "0\n",
            "1\n",
            "2\n",
            "-\n",
            "3\n",
            "4\n",
            "5\n",
            "6\n"
          ]
        }
      ]
    },
    {
      "cell_type": "code",
      "source": [
        "for x in range(1, 21):\n",
        "  if x == 13:\n",
        "    continue\n",
        "  else:\n",
        "    print(x)"
      ],
      "metadata": {
        "id": "shmpk2BaZztR",
        "outputId": "d849c791-d00b-4d5a-d1fd-e404a8a39ab6",
        "colab": {
          "base_uri": "https://localhost:8080/"
        }
      },
      "execution_count": null,
      "outputs": [
        {
          "output_type": "stream",
          "name": "stdout",
          "text": [
            "1\n",
            "2\n",
            "3\n",
            "4\n",
            "5\n",
            "6\n",
            "7\n",
            "8\n",
            "9\n",
            "10\n",
            "11\n",
            "12\n",
            "14\n",
            "15\n",
            "16\n",
            "17\n",
            "18\n",
            "19\n",
            "20\n"
          ]
        }
      ]
    },
    {
      "cell_type": "code",
      "source": [
        "for x in range(1, 21):\n",
        "  if x == 13:\n",
        "    break\n",
        "  else:\n",
        "    print(x)"
      ],
      "metadata": {
        "id": "iKOXxiIBaJOo",
        "outputId": "330ace21-d431-45cf-da84-9915e497600e",
        "colab": {
          "base_uri": "https://localhost:8080/"
        }
      },
      "execution_count": null,
      "outputs": [
        {
          "output_type": "stream",
          "name": "stdout",
          "text": [
            "1\n",
            "2\n",
            "3\n",
            "4\n",
            "5\n",
            "6\n",
            "7\n",
            "8\n",
            "9\n",
            "10\n",
            "11\n",
            "12\n"
          ]
        }
      ]
    },
    {
      "cell_type": "markdown",
      "source": [
        "## **IF = Do some code only IF some condition is True**\n",
        "#          **Else do something else**"
      ],
      "metadata": {
        "id": "2SjFH-ilbb1k"
      }
    },
    {
      "cell_type": "code",
      "source": [
        "age = int(input(\"Enter your age: \"))\n",
        "\n",
        "if age >= 18:\n",
        "  print(\"You are now signed up!\")"
      ],
      "metadata": {
        "id": "d3JnyrKjbmLE",
        "outputId": "a35d4c80-b42d-48de-b98d-8a1f739bb914",
        "colab": {
          "base_uri": "https://localhost:8080/"
        }
      },
      "execution_count": null,
      "outputs": [
        {
          "name": "stdout",
          "output_type": "stream",
          "text": [
            "Enter your age: 5\n"
          ]
        }
      ]
    },
    {
      "cell_type": "code",
      "source": [
        "age = int(input(\"Enter your age: \"))\n",
        "\n",
        "if age >= 18:\n",
        "  print(\"You are now signed up!\")\n",
        "else:\n",
        "  print(\"You must be 18+ to sign up!\")"
      ],
      "metadata": {
        "id": "awD_ze6ccBAi",
        "outputId": "1d4b95c3-c5f6-4f70-c5f4-12300016c3cd",
        "colab": {
          "base_uri": "https://localhost:8080/"
        }
      },
      "execution_count": null,
      "outputs": [
        {
          "output_type": "stream",
          "name": "stdout",
          "text": [
            "Enter your age: 5\n",
            "You must be 18+ to sign up!\n"
          ]
        }
      ]
    },
    {
      "cell_type": "code",
      "source": [
        "age = int(input(\"Enter your age: \"))\n",
        "\n",
        "if age >= 18:\n",
        "  print(\"You are now signed up!\")\n",
        "elif age <0:\n",
        "  print(\"You haven't been born yet\")\n",
        "else:\n",
        "  print(\"You must be 18+ to sign up!\")"
      ],
      "metadata": {
        "id": "Avd3KHlJcQV4",
        "outputId": "9e2cc13a-72ba-467f-c0de-4de232f00527",
        "colab": {
          "base_uri": "https://localhost:8080/"
        }
      },
      "execution_count": null,
      "outputs": [
        {
          "output_type": "stream",
          "name": "stdout",
          "text": [
            "Enter your age: -2\n",
            "You haven't been born yet\n"
          ]
        }
      ]
    },
    {
      "cell_type": "code",
      "source": [
        "age = int(input(\"Enter your age: \"))\n",
        "\n",
        "if age >= 18:\n",
        "  print(\"You are now signed up!\")\n",
        "elif age <0:\n",
        "  print(\"You haven't been born yet\")\n",
        "elif age >=100:\n",
        "  print(\"You are too old to sign up\")\n",
        "else:\n",
        "  print(\"You must be 18+ to sign up!\")"
      ],
      "metadata": {
        "id": "BNicSGmscZpp",
        "outputId": "65716d39-6e3d-4eff-f6f2-787742bfccb6",
        "colab": {
          "base_uri": "https://localhost:8080/"
        }
      },
      "execution_count": null,
      "outputs": [
        {
          "output_type": "stream",
          "name": "stdout",
          "text": [
            "Enter your age: 101\n",
            "You are now signed up!\n"
          ]
        }
      ]
    },
    {
      "cell_type": "code",
      "source": [
        "age = int(input(\"Enter your age: \"))\n",
        "\n",
        "if age >=100:\n",
        "  print(\"You are too old to sign up\")\n",
        "elif age >= 18:\n",
        "  print(\"You are now signed up!\")\n",
        "elif age <0:\n",
        "  print(\"You haven't been born yet\")\n",
        "else:\n",
        "  print(\"You must be 18+ to sign up!\")"
      ],
      "metadata": {
        "id": "apAvdmDlcdii",
        "outputId": "204b0048-cd5f-47bd-9bfe-c7edf6a0044f",
        "colab": {
          "base_uri": "https://localhost:8080/"
        }
      },
      "execution_count": null,
      "outputs": [
        {
          "output_type": "stream",
          "name": "stdout",
          "text": [
            "Enter your age: 120\n",
            "You are too old to sign up\n"
          ]
        }
      ]
    },
    {
      "cell_type": "code",
      "source": [
        "response = input(\"Would you like food? (Y/N):\")\n",
        "\n",
        "if response == \"Y\":\n",
        "  print(\"Have some food!\")"
      ],
      "metadata": {
        "id": "AekzNvmqczAP",
        "outputId": "2fc2650a-6fb0-4db2-c0ec-682bd8fe78e0",
        "colab": {
          "base_uri": "https://localhost:8080/"
        }
      },
      "execution_count": null,
      "outputs": [
        {
          "output_type": "stream",
          "name": "stdout",
          "text": [
            "Would you like food? (Y/N):Y\n",
            "Have some food!\n"
          ]
        }
      ]
    },
    {
      "cell_type": "code",
      "source": [
        "response = input(\"Would you like food? (Y/N):\")\n",
        "\n",
        "if response == \"Y\":\n",
        "  print(\"Have some food!\")\n",
        "else:\n",
        "  print(\"No food for you!\")"
      ],
      "metadata": {
        "id": "1aAljujbc7G_",
        "outputId": "c7663ac0-58bd-4d71-9028-6af1dbb706a6",
        "colab": {
          "base_uri": "https://localhost:8080/"
        }
      },
      "execution_count": null,
      "outputs": [
        {
          "output_type": "stream",
          "name": "stdout",
          "text": [
            "Would you like food? (Y/N):n\n",
            "No food for you!\n"
          ]
        }
      ]
    },
    {
      "cell_type": "code",
      "source": [
        "name = input(\"Enter your name: \")\n",
        "\n",
        "if name == \"\":\n",
        "  print(\"You did not type in your name!\")\n",
        "else:\n",
        "  print(f\"Hello {name}\")"
      ],
      "metadata": {
        "id": "Qsfk6gu7dKEY",
        "outputId": "814ee6d2-25b6-473e-c735-bb71f12fb434",
        "colab": {
          "base_uri": "https://localhost:8080/"
        }
      },
      "execution_count": null,
      "outputs": [
        {
          "output_type": "stream",
          "name": "stdout",
          "text": [
            "Enter your name: \n",
            "You did not type in your name!\n"
          ]
        }
      ]
    },
    {
      "cell_type": "code",
      "source": [
        "for_sale = True\n",
        "\n",
        "if for_sale:\n",
        "  print(\"This item is for sale!\")\n",
        "else:\n",
        "  print(\"This item is NOT for sale\")"
      ],
      "metadata": {
        "id": "qMAYtuREkGvY",
        "outputId": "172e8d65-7711-4ad2-c673-646595f9d2e1",
        "colab": {
          "base_uri": "https://localhost:8080/"
        }
      },
      "execution_count": null,
      "outputs": [
        {
          "output_type": "stream",
          "name": "stdout",
          "text": [
            "This item is for sale!\n"
          ]
        }
      ]
    },
    {
      "cell_type": "code",
      "source": [
        "for_sale = False\n",
        "\n",
        "if for_sale:\n",
        "  print(\"This item is for sale!\")\n",
        "else:\n",
        "  print(\"This item is NOT for sale\")"
      ],
      "metadata": {
        "id": "GFlmguC0lUfH",
        "outputId": "a42493e9-a2ea-4d0f-9cd8-07efcccb20a5",
        "colab": {
          "base_uri": "https://localhost:8080/"
        }
      },
      "execution_count": null,
      "outputs": [
        {
          "output_type": "stream",
          "name": "stdout",
          "text": [
            "This item is NOT for sale\n"
          ]
        }
      ]
    },
    {
      "cell_type": "markdown",
      "source": [
        "exception = An event that interrupts teh flow of a program\n",
        "            (ZeroDivisionError, TypeError, ValueError)\n",
        "            1.try,  2.except,  3.finally"
      ],
      "metadata": {
        "id": "ajN5rrf6W4RP"
      }
    },
    {
      "cell_type": "code",
      "source": [
        "int(\"pizza\")"
      ],
      "metadata": {
        "id": "woI2VDs_XJOa",
        "outputId": "8628e37d-67d9-4601-c214-59ccf1f47520",
        "colab": {
          "base_uri": "https://localhost:8080/",
          "height": 147
        }
      },
      "execution_count": null,
      "outputs": [
        {
          "output_type": "error",
          "ename": "ValueError",
          "evalue": "invalid literal for int() with base 10: 'pizza'",
          "traceback": [
            "\u001b[0;31m---------------------------------------------------------------------------\u001b[0m",
            "\u001b[0;31mValueError\u001b[0m                                Traceback (most recent call last)",
            "\u001b[0;32m<ipython-input-2-b524217e02e3>\u001b[0m in \u001b[0;36m<cell line: 1>\u001b[0;34m()\u001b[0m\n\u001b[0;32m----> 1\u001b[0;31m \u001b[0mint\u001b[0m\u001b[0;34m(\u001b[0m\u001b[0;34m\"pizza\"\u001b[0m\u001b[0;34m)\u001b[0m\u001b[0;34m\u001b[0m\u001b[0;34m\u001b[0m\u001b[0m\n\u001b[0m",
            "\u001b[0;31mValueError\u001b[0m: invalid literal for int() with base 10: 'pizza'"
          ]
        }
      ]
    },
    {
      "cell_type": "code",
      "source": [
        "try:\n",
        "  # Try some code\n",
        "except Exception:\n",
        "  # Handle an ExceptHandler\n",
        "finally:\n",
        "  # Do some clean up"
      ],
      "metadata": {
        "id": "JQvXnKC0XM6t",
        "outputId": "bb3151f0-657e-41e1-bd0f-b3c1de90f392",
        "colab": {
          "base_uri": "https://localhost:8080/",
          "height": 110
        }
      },
      "execution_count": null,
      "outputs": [
        {
          "output_type": "error",
          "ename": "IndentationError",
          "evalue": "expected an indented block after 'try' statement on line 1 (<ipython-input-3-b437b98098c8>, line 3)",
          "traceback": [
            "\u001b[0;36m  File \u001b[0;32m\"<ipython-input-3-b437b98098c8>\"\u001b[0;36m, line \u001b[0;32m3\u001b[0m\n\u001b[0;31m    except Exception:\u001b[0m\n\u001b[0m    ^\u001b[0m\n\u001b[0;31mIndentationError\u001b[0m\u001b[0;31m:\u001b[0m expected an indented block after 'try' statement on line 1\n"
          ]
        }
      ]
    },
    {
      "cell_type": "code",
      "source": [
        "number = int(input(\"Enter a number: \"))\n",
        "print(1 / number)"
      ],
      "metadata": {
        "id": "d2rfeIUDXkHG",
        "outputId": "72627e8b-5f52-48c7-abd5-8e699ac47f5b",
        "colab": {
          "base_uri": "https://localhost:8080/",
          "height": 184
        }
      },
      "execution_count": null,
      "outputs": [
        {
          "name": "stdout",
          "output_type": "stream",
          "text": [
            "Enter a number: 0\n"
          ]
        },
        {
          "output_type": "error",
          "ename": "ZeroDivisionError",
          "evalue": "division by zero",
          "traceback": [
            "\u001b[0;31m---------------------------------------------------------------------------\u001b[0m",
            "\u001b[0;31mZeroDivisionError\u001b[0m                         Traceback (most recent call last)",
            "\u001b[0;32m<ipython-input-5-93e3996cc8e9>\u001b[0m in \u001b[0;36m<cell line: 2>\u001b[0;34m()\u001b[0m\n\u001b[1;32m      1\u001b[0m \u001b[0mnumber\u001b[0m \u001b[0;34m=\u001b[0m \u001b[0mint\u001b[0m\u001b[0;34m(\u001b[0m\u001b[0minput\u001b[0m\u001b[0;34m(\u001b[0m\u001b[0;34m\"Enter a number: \"\u001b[0m\u001b[0;34m)\u001b[0m\u001b[0;34m)\u001b[0m\u001b[0;34m\u001b[0m\u001b[0;34m\u001b[0m\u001b[0m\n\u001b[0;32m----> 2\u001b[0;31m \u001b[0mprint\u001b[0m\u001b[0;34m(\u001b[0m\u001b[0;36m1\u001b[0m \u001b[0;34m/\u001b[0m \u001b[0mnumber\u001b[0m\u001b[0;34m)\u001b[0m\u001b[0;34m\u001b[0m\u001b[0;34m\u001b[0m\u001b[0m\n\u001b[0m",
            "\u001b[0;31mZeroDivisionError\u001b[0m: division by zero"
          ]
        }
      ]
    },
    {
      "cell_type": "code",
      "source": [
        "number = int(input(\"Enter a number: \"))\n",
        "print(1 / number)"
      ],
      "metadata": {
        "id": "q6USl1CDXsPD",
        "outputId": "5a465079-a85c-424a-83ac-27d496aed909",
        "colab": {
          "base_uri": "https://localhost:8080/",
          "height": 184
        }
      },
      "execution_count": null,
      "outputs": [
        {
          "name": "stdout",
          "output_type": "stream",
          "text": [
            "Enter a number: pizza\n"
          ]
        },
        {
          "output_type": "error",
          "ename": "ValueError",
          "evalue": "invalid literal for int() with base 10: 'pizza'",
          "traceback": [
            "\u001b[0;31m---------------------------------------------------------------------------\u001b[0m",
            "\u001b[0;31mValueError\u001b[0m                                Traceback (most recent call last)",
            "\u001b[0;32m<ipython-input-6-93e3996cc8e9>\u001b[0m in \u001b[0;36m<cell line: 1>\u001b[0;34m()\u001b[0m\n\u001b[0;32m----> 1\u001b[0;31m \u001b[0mnumber\u001b[0m \u001b[0;34m=\u001b[0m \u001b[0mint\u001b[0m\u001b[0;34m(\u001b[0m\u001b[0minput\u001b[0m\u001b[0;34m(\u001b[0m\u001b[0;34m\"Enter a number: \"\u001b[0m\u001b[0;34m)\u001b[0m\u001b[0;34m)\u001b[0m\u001b[0;34m\u001b[0m\u001b[0;34m\u001b[0m\u001b[0m\n\u001b[0m\u001b[1;32m      2\u001b[0m \u001b[0mprint\u001b[0m\u001b[0;34m(\u001b[0m\u001b[0;36m1\u001b[0m \u001b[0;34m/\u001b[0m \u001b[0mnumber\u001b[0m\u001b[0;34m)\u001b[0m\u001b[0;34m\u001b[0m\u001b[0;34m\u001b[0m\u001b[0m\n",
            "\u001b[0;31mValueError\u001b[0m: invalid literal for int() with base 10: 'pizza'"
          ]
        }
      ]
    },
    {
      "cell_type": "code",
      "source": [
        "try:\n",
        "  number = int(input(\"Enter a number:\"))\n",
        "  print(1 / number)\n",
        "except ZeroDivisionError:\n",
        "  print(\"You can't divide by zero IDIOT!\")"
      ],
      "metadata": {
        "id": "YqWRc1ZcX4e2",
        "outputId": "ed15e961-2b5c-4891-8bba-336f47bf25cc",
        "colab": {
          "base_uri": "https://localhost:8080/"
        }
      },
      "execution_count": null,
      "outputs": [
        {
          "output_type": "stream",
          "name": "stdout",
          "text": [
            "Enter a number:0\n",
            "You can't divide by zero IDIOT!\n"
          ]
        }
      ]
    },
    {
      "cell_type": "code",
      "source": [
        "try:\n",
        "  number = int(input(\"Enter a number: \"))\n",
        "  print(1 / number)\n",
        "except ZeroDivisionError:\n",
        "  print(\"You can't divide by zero Idiot!!\")\n",
        "except ValueError:\n",
        "  print(\"Enter only number please\")"
      ],
      "metadata": {
        "id": "KdNrXlsOYKFg",
        "outputId": "f4aff148-43ae-48e9-c3b4-5d7c02c5c112",
        "colab": {
          "base_uri": "https://localhost:8080/"
        }
      },
      "execution_count": null,
      "outputs": [
        {
          "output_type": "stream",
          "name": "stdout",
          "text": [
            "Enter a number: pizza\n",
            "Enter only number please\n"
          ]
        }
      ]
    },
    {
      "cell_type": "code",
      "source": [
        "try:\n",
        "  number = int(input(\"Enter a number: \"))\n",
        "  print(1 / number)\n",
        "except ZeroDivisionError:\n",
        "  print(\"You can't divide by zero IDIOT!!\")\n",
        "except ValueError:\n",
        "  print(\"Enter only numbers please\")\n",
        "except Exception:\n",
        "  print(\"Something went wrong!!!\")"
      ],
      "metadata": {
        "id": "Fk5MY3gJYfWm",
        "outputId": "cd6eb1bc-ee38-4113-d49b-7637b0a9be3b",
        "colab": {
          "base_uri": "https://localhost:8080/"
        }
      },
      "execution_count": null,
      "outputs": [
        {
          "output_type": "stream",
          "name": "stdout",
          "text": [
            "Enter a number: 0\n",
            "You can't divide by zero IDIOT!!\n"
          ]
        }
      ]
    },
    {
      "cell_type": "code",
      "source": [
        "try:\n",
        "  number = int(input(\"Enter a number: \"))\n",
        "  print(1 / number)\n",
        "except ZeroDivisionError:\n",
        "  print(\"You can't divide by zero IDIOT!!\")\n",
        "except ValueError:\n",
        "  print(\"Enter only numbers please\")\n",
        "except Exception:\n",
        "  print(\"Something went wrong!!!\")\n",
        "finally:\n",
        "  print('Do some clean up here')"
      ],
      "metadata": {
        "id": "atW4iWbZZAcP",
        "outputId": "7958ffd4-84de-48f6-8018-96fb4ab76874",
        "colab": {
          "base_uri": "https://localhost:8080/"
        }
      },
      "execution_count": null,
      "outputs": [
        {
          "output_type": "stream",
          "name": "stdout",
          "text": [
            "Enter a number: 4\n",
            "0.25\n",
            "Do some clean up here\n"
          ]
        }
      ]
    },
    {
      "cell_type": "markdown",
      "source": [
        "# **Decorder = A function that extends the behavior of another function **\n",
        "               w/o modifying the base function\n",
        "               Pass the base function as an argument to be decorder"
      ],
      "metadata": {
        "id": "iv99zPY-JJ0J"
      }
    },
    {
      "cell_type": "code",
      "source": [
        "def get_ice_cream():\n",
        "  print(\"Here is your ice cream\")\n",
        "\n",
        "get_ice_cream()"
      ],
      "metadata": {
        "id": "dk-3oMpEJfsf",
        "outputId": "22b6d274-b882-435b-8619-34cc2eabd630",
        "colab": {
          "base_uri": "https://localhost:8080/"
        }
      },
      "execution_count": 3,
      "outputs": [
        {
          "output_type": "stream",
          "name": "stdout",
          "text": [
            "Here is your ice cream\n"
          ]
        }
      ]
    },
    {
      "cell_type": "code",
      "source": [
        "def add_sprinkles(func):\n",
        "  def wrapper():\n",
        "    print(\"Adding sprinkles\")\n",
        "    func()\n",
        "  return wrapper\n",
        "\n",
        "@add_sprinkles\n",
        "def get_ice_cream():\n",
        "  print(\"Here is your ice cream\")\n",
        "\n",
        "get_ice_cream()"
      ],
      "metadata": {
        "id": "OdzBLgJCJrGA",
        "outputId": "1703a148-0670-411c-ea97-b3d991d366d6",
        "colab": {
          "base_uri": "https://localhost:8080/"
        }
      },
      "execution_count": 7,
      "outputs": [
        {
          "output_type": "stream",
          "name": "stdout",
          "text": [
            "Adding sprinkles\n",
            "Here is your ice cream\n"
          ]
        }
      ]
    },
    {
      "cell_type": "code",
      "source": [
        "def add_sprinkles(func):\n",
        "  def wrapper():\n",
        "    print(\"Adding sprinkles\")\n",
        "    func()\n",
        "  return wrapper\n",
        "\n",
        "def add_fudge(func):\n",
        "  def wrapper():\n",
        "    print(\"You add fudge!!\")\n",
        "    func()\n",
        "  return wrapper\n",
        "\n",
        "@add_sprinkles\n",
        "@add_fudge\n",
        "def get_ice_cream():\n",
        "  print(\"Here is your ice cream\")\n",
        "\n",
        "get_ice_cream()\n",
        "\n",
        "@add_sprinkles\n",
        "def get_ice_cream():\n",
        "  print(\"Here is your ice cream\")\n",
        "\n",
        "get_ice_cream()"
      ],
      "metadata": {
        "id": "pR0YU26DKYwI",
        "outputId": "7e7976d7-ad52-4af9-81d2-82da46611464",
        "colab": {
          "base_uri": "https://localhost:8080/"
        }
      },
      "execution_count": 11,
      "outputs": [
        {
          "output_type": "stream",
          "name": "stdout",
          "text": [
            "Adding sprinkles\n",
            "You add fudge!!\n",
            "Here is your ice cream\n",
            "Adding sprinkles\n",
            "Here is your ice cream\n"
          ]
        }
      ]
    },
    {
      "cell_type": "code",
      "source": [],
      "metadata": {
        "id": "ROnD2-TXK0_X"
      },
      "execution_count": null,
      "outputs": []
    }
  ]
}