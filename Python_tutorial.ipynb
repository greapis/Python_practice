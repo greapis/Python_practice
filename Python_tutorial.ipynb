{
  "nbformat": 4,
  "nbformat_minor": 0,
  "metadata": {
    "colab": {
      "provenance": [],
      "authorship_tag": "ABX9TyPWGEeqQuDOWijEfGfX982f",
      "include_colab_link": true
    },
    "kernelspec": {
      "name": "python3",
      "display_name": "Python 3"
    },
    "language_info": {
      "name": "python"
    }
  },
  "cells": [
    {
      "cell_type": "markdown",
      "metadata": {
        "id": "view-in-github",
        "colab_type": "text"
      },
      "source": [
        "<a href=\"https://colab.research.google.com/github/greapis/Python_practice/blob/main/Python_tutorial.ipynb\" target=\"_parent\"><img src=\"https://colab.research.google.com/assets/colab-badge.svg\" alt=\"Open In Colab\"/></a>"
      ]
    },
    {
      "cell_type": "markdown",
      "source": [
        "## \"Whiel loop\"\n",
        "= execute come code WHILE some condition remains true **굵은 텍스트**"
      ],
      "metadata": {
        "id": "Dtci0odKCfR0"
      }
    },
    {
      "cell_type": "code",
      "source": [
        "while name ==\"\":\n",
        "  print(\"You did not enter your name\")\n",
        "  name  = input(\"Enter your name: \")\n",
        "\n",
        "print(f\"Hello {name}\")\n"
      ],
      "metadata": {
        "colab": {
          "base_uri": "https://localhost:8080/"
        },
        "id": "5RFLADR2DZVb",
        "outputId": "596d94af-1e47-4ce7-f68d-5951201ee524"
      },
      "execution_count": 4,
      "outputs": [
        {
          "output_type": "stream",
          "name": "stdout",
          "text": [
            "Hello Jaeh\n"
          ]
        }
      ]
    },
    {
      "cell_type": "code",
      "source": [
        "while name ==\"\":\n",
        "  print(\"You did not enter your name\")\n",
        "\n",
        "print(f\"Hello {name}\")\n"
      ],
      "metadata": {
        "colab": {
          "base_uri": "https://localhost:8080/"
        },
        "id": "b0fopxD9DoOj",
        "outputId": "00a24819-2517-457d-e187-498895b2b601"
      },
      "execution_count": 5,
      "outputs": [
        {
          "output_type": "stream",
          "name": "stdout",
          "text": [
            "Hello Jaeh\n"
          ]
        }
      ]
    },
    {
      "cell_type": "code",
      "source": [
        "name = input(\"Enter your name: \")\n",
        "\n",
        "if name == \"\":\n",
        "  print(\"You did not enter your name\")\n",
        "else:\n",
        "  print(f\"Hello {name}\")"
      ],
      "metadata": {
        "colab": {
          "base_uri": "https://localhost:8080/"
        },
        "id": "Rw2PynDeD_KC",
        "outputId": "f71e1e48-a9c1-4e66-9743-12e1b2b0d49b"
      },
      "execution_count": 6,
      "outputs": [
        {
          "output_type": "stream",
          "name": "stdout",
          "text": [
            "Enter your name: shim\n",
            "Hello shim\n"
          ]
        }
      ]
    },
    {
      "cell_type": "code",
      "source": [
        "age = int(input(\"Enter your age: \"))\n",
        "\n",
        "while age < 0:\n",
        "  print(\"Age cannot be negative\")\n",
        "  age = int(input(\"Enter your age: \"))\n",
        "\n",
        "print(f\"You are {age} years old\")"
      ],
      "metadata": {
        "colab": {
          "base_uri": "https://localhost:8080/"
        },
        "id": "6vErsP-WEP3n",
        "outputId": "930b0162-c20f-4034-c2f0-179883b86b35"
      },
      "execution_count": 7,
      "outputs": [
        {
          "output_type": "stream",
          "name": "stdout",
          "text": [
            "Enter your age: -8\n",
            "Age cannot be negative\n",
            "Enter your age: -7\n",
            "Age cannot be negative\n",
            "Enter your age: -1000000\n",
            "Age cannot be negative\n",
            "Enter your age: 23\n",
            "You are 23 years old\n"
          ]
        }
      ]
    },
    {
      "cell_type": "code",
      "source": [
        "food = input(\"Enter a food you like (q to quit): \")\n",
        "\n",
        "while not food == \"q\":\n",
        "  print(f\"You like {food}\")\n",
        "  food = input(\"Enter another food you like (q to quit): \")\n",
        "\n",
        "print(\"Bye\")"
      ],
      "metadata": {
        "colab": {
          "base_uri": "https://localhost:8080/"
        },
        "id": "ySvcFahiEjHR",
        "outputId": "80ff5054-bbc5-42c3-af45-c9f1fb059974"
      },
      "execution_count": 8,
      "outputs": [
        {
          "output_type": "stream",
          "name": "stdout",
          "text": [
            "Enter a food you like (q to quit): pizza\n",
            "You like pizza\n",
            "Enter another food you like (q to quit): hambergur\n",
            "You like hambergur\n",
            "Enter another food you like (q to quit): sushi\n",
            "You like sushi\n",
            "Enter another food you like (q to quit): q\n",
            "Bye\n"
          ]
        }
      ]
    },
    {
      "cell_type": "code",
      "source": [
        "num = int(input(\"Enter a # between 1 -10: \"))\n",
        "\n",
        "while num <1 or num >10:\n",
        "  print(f\"{num} is not valid\")\n",
        "  num = int(input(\"Enter a # between 1 -10: \"))\n",
        "\n",
        "print(f\"Your number is {num}\")"
      ],
      "metadata": {
        "colab": {
          "base_uri": "https://localhost:8080/"
        },
        "id": "4caX9cgMFSUY",
        "outputId": "1bb3819d-23af-4055-df24-e75583b2c6b8"
      },
      "execution_count": 9,
      "outputs": [
        {
          "output_type": "stream",
          "name": "stdout",
          "text": [
            "Enter a # between 1 -10: 0\n",
            "0 is not valid\n",
            "Enter a # between 1 -10: -10\n",
            "-10 is not valid\n",
            "Enter a # between 1 -10: 5\n",
            "Your number is 5\n"
          ]
        }
      ]
    },
    {
      "cell_type": "code",
      "source": [],
      "metadata": {
        "id": "xvnIMDvpF-il"
      },
      "execution_count": null,
      "outputs": []
    }
  ]
}