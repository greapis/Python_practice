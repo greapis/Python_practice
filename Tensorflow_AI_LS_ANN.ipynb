{
  "nbformat": 4,
  "nbformat_minor": 0,
  "metadata": {
    "colab": {
      "provenance": [],
      "authorship_tag": "ABX9TyM5S0nh/s4tj4Fi1OL1cV49",
      "include_colab_link": true
    },
    "kernelspec": {
      "name": "python3",
      "display_name": "Python 3"
    },
    "language_info": {
      "name": "python"
    }
  },
  "cells": [
    {
      "cell_type": "markdown",
      "metadata": {
        "id": "view-in-github",
        "colab_type": "text"
      },
      "source": [
        "<a href=\"https://colab.research.google.com/github/greapis/Python_practice/blob/main/Tensorflow_AI_LS_ANN.ipynb\" target=\"_parent\"><img src=\"https://colab.research.google.com/assets/colab-badge.svg\" alt=\"Open In Colab\"/></a>"
      ]
    },
    {
      "cell_type": "code",
      "execution_count": null,
      "metadata": {
        "id": "THnahHtUsmNV"
      },
      "outputs": [],
      "source": [
        "# Importing Libraries\n",
        "\n",
        "import tensorflow as tf\n",
        "from tensorflow.keras.models import Sequential\n",
        "from tensorflow.keras.layers import Dense, Flatten\n",
        "from tensorflow.keras.datasets import mnist\n",
        "from tensorflow.keras.utils import to_categorical"
      ]
    },
    {
      "cell_type": "code",
      "source": [
        "# Loading Data\n",
        "\n",
        "(x_train, y_train), (x_test, y_test) = mnist.load_data()\n",
        "\n",
        "# Normalizing the data to 0~1\n",
        "\n",
        "x_train = x_train / 255.0\n",
        "x_test = x_test /255.0\n",
        "\n",
        "# One-hot encoding the labels\n",
        "\n",
        "y_train = to_categorical(y_train, 10)\n",
        "y_test = to_categorical(y_test, 10)\n"
      ],
      "metadata": {
        "id": "v455FTRxvFK7"
      },
      "execution_count": null,
      "outputs": []
    },
    {
      "cell_type": "code",
      "source": [
        "# Making model = Building laysers\n",
        "\n",
        "model = Sequential([\n",
        "    Flatten(input_shape=(28, 28)),  #input later\n",
        "    Dense(256, activation='relu'),  #first layer\n",
        "    Dense(128, activation='relu'),  #second layer\n",
        "    Dense(64, activation='relu'),   #third layer\n",
        "    Dense(10, activation='softmax') #output layer\n",
        "])"
      ],
      "metadata": {
        "id": "wxrjAzwYwReK",
        "colab": {
          "base_uri": "https://localhost:8080/"
        },
        "outputId": "54c9990d-75a1-4dba-9038-60b3959350d9"
      },
      "execution_count": null,
      "outputs": [
        {
          "output_type": "stream",
          "name": "stderr",
          "text": [
            "/usr/local/lib/python3.10/dist-packages/keras/src/layers/reshaping/flatten.py:37: UserWarning: Do not pass an `input_shape`/`input_dim` argument to a layer. When using Sequential models, prefer using an `Input(shape)` object as the first layer in the model instead.\n",
            "  super().__init__(**kwargs)\n"
          ]
        }
      ]
    },
    {
      "cell_type": "code",
      "source": [
        "# Compiling model (모델 환경설정 : Optimizer, Loss function, Evaluate)\n",
        "# Optimize : adam, Loss_Function : Categorical Crossentropy, Evaluate : Accuracy\n",
        "\n",
        "model.compile(optimizer='adam',\n",
        "              loss='categorical_crossentropy',\n",
        "              metrics=['accuracy']\n",
        ")"
      ],
      "metadata": {
        "id": "aJgmiTaOwztq"
      },
      "execution_count": null,
      "outputs": []
    },
    {
      "cell_type": "code",
      "source": [
        "# Learning Model (지금까지 설정한 것을 기반으로 모델을 학습)\n",
        "# Learning data = image:x_train, label:y_train\n",
        "# Hyper parameter = epochs, batch_size\n",
        "\n",
        "model.fit(x_train, y_train,\n",
        "          epochs=5,\n",
        "          batch_size=32,\n",
        "          validation_split=0.2)\n",
        "\n",
        "# validation_split = 검증 데이터의 비율(=학습 데이터 중에서 검증 데이터로 사용되는 비율)"
      ],
      "metadata": {
        "id": "C1SRrg6Ox9jR",
        "outputId": "cef90e58-f753-47b8-a47a-7d437c72eb2e",
        "colab": {
          "base_uri": "https://localhost:8080/"
        }
      },
      "execution_count": null,
      "outputs": [
        {
          "output_type": "stream",
          "name": "stdout",
          "text": [
            "Epoch 1/5\n",
            "\u001b[1m1500/1500\u001b[0m \u001b[32m━━━━━━━━━━━━━━━━━━━━\u001b[0m\u001b[37m\u001b[0m \u001b[1m11s\u001b[0m 5ms/step - accuracy: 0.8677 - loss: 0.4300 - val_accuracy: 0.9661 - val_loss: 0.1208\n",
            "Epoch 2/5\n",
            "\u001b[1m1500/1500\u001b[0m \u001b[32m━━━━━━━━━━━━━━━━━━━━\u001b[0m\u001b[37m\u001b[0m \u001b[1m13s\u001b[0m 7ms/step - accuracy: 0.9701 - loss: 0.1015 - val_accuracy: 0.9696 - val_loss: 0.0996\n",
            "Epoch 3/5\n",
            "\u001b[1m1500/1500\u001b[0m \u001b[32m━━━━━━━━━━━━━━━━━━━━\u001b[0m\u001b[37m\u001b[0m \u001b[1m19s\u001b[0m 6ms/step - accuracy: 0.9800 - loss: 0.0648 - val_accuracy: 0.9682 - val_loss: 0.1044\n",
            "Epoch 4/5\n",
            "\u001b[1m1500/1500\u001b[0m \u001b[32m━━━━━━━━━━━━━━━━━━━━\u001b[0m\u001b[37m\u001b[0m \u001b[1m7s\u001b[0m 5ms/step - accuracy: 0.9836 - loss: 0.0519 - val_accuracy: 0.9735 - val_loss: 0.0897\n",
            "Epoch 5/5\n",
            "\u001b[1m1500/1500\u001b[0m \u001b[32m━━━━━━━━━━━━━━━━━━━━\u001b[0m\u001b[37m\u001b[0m \u001b[1m12s\u001b[0m 6ms/step - accuracy: 0.9884 - loss: 0.0361 - val_accuracy: 0.9749 - val_loss: 0.0951\n"
          ]
        },
        {
          "output_type": "execute_result",
          "data": {
            "text/plain": [
              "<keras.src.callbacks.history.History at 0x7cb9def49d20>"
            ]
          },
          "metadata": {},
          "execution_count": 25
        }
      ]
    },
    {
      "cell_type": "code",
      "source": [
        "# 도델 성능 평가\n",
        "\n",
        "# .evaluate : 학습된 모델을 평가, 선실값과 정확도 등 지표 반환\n",
        "# test data = image:x_test, label:y_test\n",
        "# 손실값:test_loss,  정확도:test_acc\n",
        "# .evaluate : 반환 순서 고정됨(반환 순서 : loss - metrics1 - metrics2.....으로 고정)\n",
        "\n",
        "test_loss, test_acc = model.evaluate(x_test, y_test)\n",
        "# print('Test accuracy:', test_acc)\n",
        "print(f\"Test accuracy:{test_acc:.2f}\")"
      ],
      "metadata": {
        "id": "qM0qNKpey8EU",
        "outputId": "883ca704-4104-451c-d795-aa8fd90d3f6c",
        "colab": {
          "base_uri": "https://localhost:8080/"
        }
      },
      "execution_count": null,
      "outputs": [
        {
          "output_type": "stream",
          "name": "stdout",
          "text": [
            "\u001b[1m313/313\u001b[0m \u001b[32m━━━━━━━━━━━━━━━━━━━━\u001b[0m\u001b[37m\u001b[0m \u001b[1m1s\u001b[0m 2ms/step - accuracy: 0.9708 - loss: 0.1024\n",
            "Test accuracy:0.98\n"
          ]
        }
      ]
    },
    {
      "cell_type": "code",
      "source": [],
      "metadata": {
        "id": "KbF8wtkxyt65"
      },
      "execution_count": null,
      "outputs": []
    }
  ]
}