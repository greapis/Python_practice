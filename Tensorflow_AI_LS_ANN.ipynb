{
  "nbformat": 4,
  "nbformat_minor": 0,
  "metadata": {
    "colab": {
      "provenance": [],
      "authorship_tag": "ABX9TyNNwM0aPcO8mjRefrlq/IZQ",
      "include_colab_link": true
    },
    "kernelspec": {
      "name": "python3",
      "display_name": "Python 3"
    },
    "language_info": {
      "name": "python"
    }
  },
  "cells": [
    {
      "cell_type": "markdown",
      "metadata": {
        "id": "view-in-github",
        "colab_type": "text"
      },
      "source": [
        "<a href=\"https://colab.research.google.com/github/greapis/Python_practice/blob/main/Tensorflow_AI_LS_ANN.ipynb\" target=\"_parent\"><img src=\"https://colab.research.google.com/assets/colab-badge.svg\" alt=\"Open In Colab\"/></a>"
      ]
    },
    {
      "cell_type": "code",
      "execution_count": 7,
      "metadata": {
        "id": "THnahHtUsmNV"
      },
      "outputs": [],
      "source": [
        "# Importing Libraries\n",
        "\n",
        "import tensorflow as tf\n",
        "from tensorflow.keras.models import Sequential\n",
        "from tensorflow.keras.layers import Dense, Flatten\n",
        "from tensorflow.keras.datasets import mnist\n",
        "from tensorflow.keras.utils import to_categorical"
      ]
    },
    {
      "cell_type": "code",
      "source": [
        "# Loading Data\n",
        "\n",
        "(x_train, y_train), (x_test, y_test) = mnist.load_data()\n",
        "\n",
        "# Normalizing the data to 0~1\n",
        "\n",
        "x_train = x_train / 255.0\n",
        "x_test = x_test /255.0\n",
        "\n",
        "# One-hot encoding the labels\n",
        "\n",
        "y_train = to_categorical(y_train, 10)\n",
        "y_test = to_categorical(y_test, 10)\n"
      ],
      "metadata": {
        "id": "v455FTRxvFK7"
      },
      "execution_count": 8,
      "outputs": []
    },
    {
      "cell_type": "code",
      "source": [
        "# Making model = Building laysers\n",
        "\n",
        "model = Sequential([\n",
        "    Flatten(input_shape=(28, 28)),  #input later\n",
        "    Dense(256, activation='relu'),  #first layer\n",
        "    Dense(128, activation='relu'),  #second layer\n",
        "    Dense(64, activation='relu'),   #third layer\n",
        "    Dense(10, activation='softmax') #output layer\n",
        "])"
      ],
      "metadata": {
        "id": "wxrjAzwYwReK",
        "colab": {
          "base_uri": "https://localhost:8080/"
        },
        "outputId": "4a63f2d3-d36d-481a-f5b5-a139092f167b"
      },
      "execution_count": 9,
      "outputs": [
        {
          "output_type": "stream",
          "name": "stderr",
          "text": [
            "/usr/local/lib/python3.10/dist-packages/keras/src/layers/reshaping/flatten.py:37: UserWarning: Do not pass an `input_shape`/`input_dim` argument to a layer. When using Sequential models, prefer using an `Input(shape)` object as the first layer in the model instead.\n",
            "  super().__init__(**kwargs)\n"
          ]
        }
      ]
    },
    {
      "cell_type": "code",
      "source": [
        "# Compiling model (모델 환경설정 : Optimizer, Loss function, Evaluate)\n",
        "# Optimize : adam, Loss_Function : Categorical Crossentropy, Evaluate : Accuracy\n",
        "\n",
        "model.compile(optimizer='adam',\n",
        "              loss='categorical_crossentropy',\n",
        "              metrics=['accuracy']\n",
        ")"
      ],
      "metadata": {
        "id": "aJgmiTaOwztq"
      },
      "execution_count": 10,
      "outputs": []
    },
    {
      "cell_type": "code",
      "source": [
        "# Learning Model (지금까지 설정한 것을 기반으로 모델을 학습)\n",
        "# Learning data = image:x_train, label:y_train\n",
        "# Hyper parameter = epochs, batch_size\n",
        "\n",
        "model.fit(x_train, y_train,\n",
        "          epochs=5,\n",
        "          batch_size=32,\n",
        "          validation_split=0.2)\n",
        "\n",
        "# validation_split = 검증 데이터의 비율(=테스트 데이터 중에서 검증 데이터로 사용되는 비율)"
      ],
      "metadata": {
        "id": "C1SRrg6Ox9jR",
        "outputId": "2efa1ffa-1e2e-4f00-9c0a-241ff83fc4bc",
        "colab": {
          "base_uri": "https://localhost:8080/"
        }
      },
      "execution_count": 11,
      "outputs": [
        {
          "output_type": "stream",
          "name": "stdout",
          "text": [
            "Epoch 1/5\n",
            "\u001b[1m1500/1500\u001b[0m \u001b[32m━━━━━━━━━━━━━━━━━━━━\u001b[0m\u001b[37m\u001b[0m \u001b[1m8s\u001b[0m 5ms/step - accuracy: 0.8785 - loss: 0.4089 - val_accuracy: 0.9651 - val_loss: 0.1141\n",
            "Epoch 2/5\n",
            "\u001b[1m1500/1500\u001b[0m \u001b[32m━━━━━━━━━━━━━━━━━━━━\u001b[0m\u001b[37m\u001b[0m \u001b[1m10s\u001b[0m 5ms/step - accuracy: 0.9691 - loss: 0.1007 - val_accuracy: 0.9710 - val_loss: 0.0958\n",
            "Epoch 3/5\n",
            "\u001b[1m1500/1500\u001b[0m \u001b[32m━━━━━━━━━━━━━━━━━━━━\u001b[0m\u001b[37m\u001b[0m \u001b[1m11s\u001b[0m 6ms/step - accuracy: 0.9791 - loss: 0.0656 - val_accuracy: 0.9761 - val_loss: 0.0823\n",
            "Epoch 4/5\n",
            "\u001b[1m1500/1500\u001b[0m \u001b[32m━━━━━━━━━━━━━━━━━━━━\u001b[0m\u001b[37m\u001b[0m \u001b[1m11s\u001b[0m 6ms/step - accuracy: 0.9846 - loss: 0.0460 - val_accuracy: 0.9725 - val_loss: 0.1068\n",
            "Epoch 5/5\n",
            "\u001b[1m1500/1500\u001b[0m \u001b[32m━━━━━━━━━━━━━━━━━━━━\u001b[0m\u001b[37m\u001b[0m \u001b[1m7s\u001b[0m 5ms/step - accuracy: 0.9871 - loss: 0.0414 - val_accuracy: 0.9747 - val_loss: 0.0916\n"
          ]
        },
        {
          "output_type": "execute_result",
          "data": {
            "text/plain": [
              "<keras.src.callbacks.history.History at 0x7cb9fe081660>"
            ]
          },
          "metadata": {},
          "execution_count": 11
        }
      ]
    },
    {
      "cell_type": "code",
      "source": [
        "# 도델 성능 평가\n",
        "\n",
        "# .evaluate : 학습된 모델을 평가, 선실값과 정확도 등 지표 반환\n",
        "# test data = image:x_test, label:y_test\n",
        "# 손실값:test_loss,  정확도:test_acc\n",
        "# .evaluate : 반환 순서 고정됨(반환 순서 : loss - metrics1 - metrics2.....으로 고정)\n",
        "\n",
        "test_loss, test_acc = model.evaluate(x_test, y_test)\n",
        "# print('Test accuracy:', test_acc)\n",
        "print(f\"Test accuracy:{test_acc:.2f}\")"
      ],
      "metadata": {
        "id": "qM0qNKpey8EU",
        "outputId": "70a58947-a8b2-4a45-d812-5ab1be3a34dc",
        "colab": {
          "base_uri": "https://localhost:8080/"
        }
      },
      "execution_count": 14,
      "outputs": [
        {
          "output_type": "stream",
          "name": "stdout",
          "text": [
            "\u001b[1m313/313\u001b[0m \u001b[32m━━━━━━━━━━━━━━━━━━━━\u001b[0m\u001b[37m\u001b[0m \u001b[1m1s\u001b[0m 2ms/step - accuracy: 0.9707 - loss: 0.0988\n",
            "Test accuracy:0.98\n"
          ]
        }
      ]
    },
    {
      "cell_type": "code",
      "source": [],
      "metadata": {
        "id": "KbF8wtkxyt65"
      },
      "execution_count": 11,
      "outputs": []
    }
  ]
}