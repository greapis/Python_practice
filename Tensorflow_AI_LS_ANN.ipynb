{
  "nbformat": 4,
  "nbformat_minor": 0,
  "metadata": {
    "colab": {
      "provenance": [],
      "authorship_tag": "ABX9TyM5S0nh/s4tj4Fi1OL1cV49",
      "include_colab_link": true
    },
    "kernelspec": {
      "name": "python3",
      "display_name": "Python 3"
    },
    "language_info": {
      "name": "python"
    }
  },
  "cells": [
    {
      "cell_type": "markdown",
      "metadata": {
        "id": "view-in-github",
        "colab_type": "text"
      },
      "source": [
        "<a href=\"https://colab.research.google.com/github/greapis/Python_practice/blob/main/Tensorflow_AI_LS_ANN.ipynb\" target=\"_parent\"><img src=\"https://colab.research.google.com/assets/colab-badge.svg\" alt=\"Open In Colab\"/></a>"
      ]
    },
    {
      "cell_type": "code",
      "execution_count": 1,
      "metadata": {
        "id": "THnahHtUsmNV"
      },
      "outputs": [],
      "source": [
        "# Importing Libraries\n",
        "\n",
        "import tensorflow as tf\n",
        "from tensorflow.keras.models import Sequential\n",
        "from tensorflow.keras.layers import Dense, Flatten\n",
        "from tensorflow.keras.datasets import mnist\n",
        "from tensorflow.keras.utils import to_categorical"
      ]
    },
    {
      "cell_type": "code",
      "source": [
        "# Loading Data\n",
        "\n",
        "(x_train, y_train), (x_test, y_test) = mnist.load_data()\n",
        "\n",
        "# Normalizing the data to 0~1\n",
        "\n",
        "x_train = x_train / 255.0\n",
        "x_test = x_test /255.0\n",
        "\n",
        "# One-hot encoding the labels\n",
        "\n",
        "y_train = to_categorical(y_train, 10)\n",
        "y_test = to_categorical(y_test, 10)\n"
      ],
      "metadata": {
        "id": "v455FTRxvFK7",
        "outputId": "8f945f7a-f058-4523-d1f8-e0499731ce90",
        "colab": {
          "base_uri": "https://localhost:8080/"
        }
      },
      "execution_count": 2,
      "outputs": [
        {
          "output_type": "stream",
          "name": "stdout",
          "text": [
            "Downloading data from https://storage.googleapis.com/tensorflow/tf-keras-datasets/mnist.npz\n",
            "\u001b[1m11490434/11490434\u001b[0m \u001b[32m━━━━━━━━━━━━━━━━━━━━\u001b[0m\u001b[37m\u001b[0m \u001b[1m1s\u001b[0m 0us/step\n"
          ]
        }
      ]
    },
    {
      "cell_type": "code",
      "source": [
        "# Making model = Building laysers\n",
        "\n",
        "model = Sequential([\n",
        "    Flatten(input_shape=(28, 28)),  #input later\n",
        "    Dense(256, activation='relu'),  #first layer\n",
        "    Dense(128, activation='relu'),  #second layer\n",
        "    Dense(64, activation='relu'),   #third layer\n",
        "    Dense(10, activation='softmax') #output layer\n",
        "])"
      ],
      "metadata": {
        "id": "wxrjAzwYwReK",
        "colab": {
          "base_uri": "https://localhost:8080/"
        },
        "outputId": "28c44f84-01f8-49bc-c3a0-94101d911732"
      },
      "execution_count": 3,
      "outputs": [
        {
          "output_type": "stream",
          "name": "stderr",
          "text": [
            "/usr/local/lib/python3.10/dist-packages/keras/src/layers/reshaping/flatten.py:37: UserWarning: Do not pass an `input_shape`/`input_dim` argument to a layer. When using Sequential models, prefer using an `Input(shape)` object as the first layer in the model instead.\n",
            "  super().__init__(**kwargs)\n"
          ]
        }
      ]
    },
    {
      "cell_type": "code",
      "source": [
        "# Compiling model (모델 환경설정 : Optimizer, Loss function, Evaluate)\n",
        "# Optimize : adam, Loss_Function : Categorical Crossentropy, Evaluate : Accuracy\n",
        "\n",
        "model.compile(optimizer='adam',\n",
        "              loss='categorical_crossentropy',\n",
        "              metrics=['accuracy']\n",
        ")"
      ],
      "metadata": {
        "id": "aJgmiTaOwztq"
      },
      "execution_count": 4,
      "outputs": []
    },
    {
      "cell_type": "code",
      "source": [
        "# Learning Model (지금까지 설정한 것을 기반으로 모델을 학습)\n",
        "# Learning data = image:x_train, label:y_train\n",
        "# Hyper parameter = epochs, batch_size\n",
        "\n",
        "model.fit(x_train, y_train,\n",
        "          epochs=5,\n",
        "          batch_size=32,\n",
        "          validation_split=0.2)\n",
        "\n",
        "# validation_split = 검증 데이터의 비율(=학습 데이터 중에서 검증 데이터로 사용되는 비율)"
      ],
      "metadata": {
        "id": "C1SRrg6Ox9jR",
        "outputId": "029dff81-1889-42a5-80d5-df7959eab08e",
        "colab": {
          "base_uri": "https://localhost:8080/"
        }
      },
      "execution_count": null,
      "outputs": [
        {
          "output_type": "stream",
          "name": "stdout",
          "text": [
            "Epoch 1/5\n",
            "\u001b[1m1500/1500\u001b[0m \u001b[32m━━━━━━━━━━━━━━━━━━━━\u001b[0m\u001b[37m\u001b[0m \u001b[1m13s\u001b[0m 7ms/step - accuracy: 0.8729 - loss: 0.4263 - val_accuracy: 0.9590 - val_loss: 0.1288\n",
            "Epoch 2/5\n",
            "\u001b[1m  60/1500\u001b[0m \u001b[37m━━━━━━━━━━━━━━━━━━━━\u001b[0m \u001b[1m9s\u001b[0m 6ms/step - accuracy: 0.9743 - loss: 0.0893"
          ]
        }
      ]
    },
    {
      "cell_type": "code",
      "source": [
        "# 도델 성능 평가\n",
        "\n",
        "# .evaluate : 학습된 모델을 평가, 선실값과 정확도 등 지표 반환\n",
        "# test data = image:x_test, label:y_test\n",
        "# 손실값:test_loss,  정확도:test_acc\n",
        "# .evaluate : 반환 순서 고정됨(반환 순서 : loss - metrics1 - metrics2.....으로 고정)\n",
        "\n",
        "test_loss, test_acc = model.evaluate(x_test, y_test)\n",
        "# print('Test accuracy:', test_acc)\n",
        "print(f\"Test accuracy:{test_acc:.2f}\")"
      ],
      "metadata": {
        "id": "qM0qNKpey8EU"
      },
      "execution_count": null,
      "outputs": []
    },
    {
      "cell_type": "code",
      "source": [],
      "metadata": {
        "id": "KbF8wtkxyt65"
      },
      "execution_count": null,
      "outputs": []
    }
  ]
}